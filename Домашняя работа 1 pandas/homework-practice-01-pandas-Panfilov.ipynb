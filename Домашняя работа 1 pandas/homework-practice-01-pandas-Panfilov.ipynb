{
  "cells": [
    {
      "cell_type": "markdown",
      "metadata": {
        "id": "HcF9My_FhLuk"
      },
      "source": [
        "## Машинное обучение 1, ПМИ ФКН ВШЭ\n",
        "\n",
        "## Практическое домашнее задание 1\n",
        "\n",
        "### Общая информация\n",
        "\n",
        "Дата выдачи: 19.09.2023\n",
        "\n",
        "Мягкий дедлайн: 23:59MSK 02.10.2023\n",
        "\n",
        "Жесткий дедлайн: 23:59MSK 06.10.2023"
      ]
    },
    {
      "cell_type": "markdown",
      "metadata": {
        "id": "G64TptyJhLuo"
      },
      "source": [
        "### О задании\n",
        "\n",
        "Задание состоит из двух разделов, посвященных работе с табличными данными с помощью библиотеки pandas и визуализации с помощью matplotlib. В первом разделе вам предстоит выполнить базовые задания с помощью вышеуказанных библиотек, а во втором распределить студентов по курсам. Баллы даются за выполнение отдельных пунктов. Задачи в рамках одного раздела рекомендуется решать в том порядке, в котором они даны в задании.\n",
        "\n",
        "Задание направлено на освоение jupyter notebook (будет использоваться в дальнейших заданиях), библиотек pandas и matplotlib.\n",
        "\n",
        "### Оценивание и штрафы\n",
        "Каждая из задач имеет определенную «стоимость» (указана в скобках около задачи). Максимально допустимая оценка за работу — 10 баллов.\n",
        "\n",
        "Сдавать задание после жёсткого дедлайна нельзя. При выставлении неполного балла за задание в связи с наличием ошибок на усмотрение проверяющего предусмотрена возможность исправить работу на указанных в ответном письме условиях.\n",
        "\n",
        "Задание выполняется самостоятельно. «Похожие» решения считаются плагиатом и все задействованные студенты (в том числе те, у кого списали) не могут получить за него больше 0 баллов (подробнее о плагиате см. на странице курса). Если вы нашли решение какого-то из заданий (или его часть) в открытом источнике, необходимо указать ссылку на этот источник (скорее всего вы будете не единственным, кто это нашел, поэтому чтобы исключить подозрение в плагиате, необходима ссылка на источник).\n",
        "\n",
        "### Формат сдачи\n",
        "Задания сдаются через систему Anytask. Инвайт можно получить у семинариста или ассистента. Присылать необходимо ноутбук с выполненным заданием. Сам ноутбук называйте в формате homework-practice-01-pandas-Username.ipynb, где Username — ваша фамилия.\n",
        "\n",
        "Для удобства проверки самостоятельно посчитайте свою максимальную оценку (исходя из набора решенных задач) и укажите ниже.\n",
        "\n",
        "Оценка: xx."
      ]
    },
    {
      "cell_type": "markdown",
      "metadata": {
        "id": "BaXlfHE_hLup"
      },
      "source": [
        "## 0. Введение"
      ]
    },
    {
      "cell_type": "markdown",
      "metadata": {
        "id": "wirAvJNxhLup"
      },
      "source": [
        "Сейчас мы находимся в jupyter-ноутбуке (или ipython-ноутбуке). Это удобная среда для написания кода, проведения экспериментов, изучения данных, построения визуализаций и других нужд, не связанных с написанием production-кода.\n",
        "\n",
        "Ноутбук состоит из ячеек, каждая из которых может быть либо ячейкой с кодом, либо ячейкой с текстом размеченным и неразмеченным. Текст поддерживает markdown-разметку и формулы в Latex.\n",
        "\n",
        "Для работы с содержимым ячейки используется *режим редактирования* (*Edit mode*, включается нажатием клавиши **Enter** после выбора ячейки), а для навигации между ячейками искользуется *командный режим* (*Command mode*, включается нажатием клавиши **Esc**). Тип ячейки можно задать в командном режиме либо с помощью горячих клавиш (**y** to code, **m** to markdown, **r** to edit raw text), либо в меню *Cell -> Cell type*.\n",
        "\n",
        "После заполнения ячейки нужно нажать *Shift + Enter*, эта команда обработает содержимое ячейки: проинтерпретирует код или сверстает размеченный текст."
      ]
    },
    {
      "cell_type": "code",
      "execution_count": 1,
      "metadata": {
        "colab": {
          "base_uri": "https://localhost:8080/"
        },
        "id": "aQ2_j3nkhLuq",
        "outputId": "f5b5d2ae-2688-47cb-d2e6-2b8aacc09ab5"
      },
      "outputs": [
        {
          "output_type": "execute_result",
          "data": {
            "text/plain": [
              "4"
            ]
          },
          "metadata": {},
          "execution_count": 1
        }
      ],
      "source": [
        "# ячейка с кодом, при выполнении которой появится output\n",
        "2 + 2"
      ]
    },
    {
      "cell_type": "markdown",
      "metadata": {
        "id": "ZlulCwVKhLur"
      },
      "source": [
        "Ячейка с неразмеченным текстом."
      ]
    },
    {
      "cell_type": "markdown",
      "metadata": {
        "id": "A4wkVlIehLur"
      },
      "source": [
        "Попробуйте создать свои ячейки, написать какой-нибудь код и текст какой-нибудь формулой."
      ]
    },
    {
      "cell_type": "code",
      "execution_count": 2,
      "metadata": {
        "id": "BIuaYSvqhLus"
      },
      "outputs": [],
      "source": [
        "# your code"
      ]
    },
    {
      "cell_type": "markdown",
      "metadata": {
        "id": "iWs6ljrIhLus"
      },
      "source": [
        "[Здесь](https://athena.brynmawr.edu/jupyter/hub/dblank/public/Jupyter%20Notebook%20Users%20Manual.ipynb) находится <s>не</s>большая заметка о используемом языке разметки Markdown. Он позволяет:\n",
        "\n",
        "0. Составлять упорядоченные списки\n",
        "1. Выделять *текст* <s>при</s> **необходимости**\n",
        "2. Добавлять [ссылки](http://imgs.xkcd.com/comics/the_universal_label.png)\n",
        "\n",
        "\n",
        "* Составлять неупорядоченные списки\n",
        "\n",
        "Делать вставки с помощью LaTex:\n",
        "    \n",
        "$\n",
        "\\left\\{\n",
        "\\begin{array}{ll}\n",
        "x = 16 \\sin^3 (t) \\\\\n",
        "y = 13 \\cos (t) - 5 \\cos (2t) - 2 \\cos (3t) - \\cos (4t) \\\\\n",
        "t \\in [0, 2 \\pi]\n",
        "\\end{array}\n",
        "\\right.$"
      ]
    },
    {
      "cell_type": "markdown",
      "metadata": {
        "id": "6fmTGcXOhLus"
      },
      "source": [
        "А ещё можно вставлять картинки, или гифки, или что захотите:\n",
        "\n",
        "<img src=\"https://media1.tenor.com/images/9b8fbe9214504bcf6c60fe4e4f7e114e/tenor.gif?itemid=5416416\" style=\"width: 400px\">"
      ]
    },
    {
      "cell_type": "markdown",
      "metadata": {
        "id": "J_toGw7DhLut"
      },
      "source": [
        "### Google Colab"
      ]
    },
    {
      "cell_type": "markdown",
      "metadata": {
        "id": "jpkbCVjGhLut"
      },
      "source": [
        "Что за колаб?\n",
        "\n",
        "**Google Colab (Colaboratory)** это **Jupyter Notebook + Cloud + Google Drive.**\n",
        "\n",
        "Компания Google предоставляет возможность бесплатно запускать ноутбуки (предварительно загрузив их на свой гугл-диск) прямо в облаке. При этом вам не требуется установка никаких пакетов на свою машину, а работать можно прямиком из браузера. Вот ссылка:"
      ]
    },
    {
      "cell_type": "markdown",
      "metadata": {
        "id": "06MQog3yhLut"
      },
      "source": [
        "https://colab.research.google.com"
      ]
    },
    {
      "cell_type": "markdown",
      "metadata": {
        "id": "5_hfWXKPhLut"
      },
      "source": [
        "При использовании вы увидете много сходств с jupyter ноутбуком. Одним из преимуществ является доступность GPU, соответствующую опцию можно активировать в настройках сервиса. При желании вы сможете найти в интернете много туториалов по использованию или разобраться самостоятельно =)"
      ]
    },
    {
      "cell_type": "markdown",
      "metadata": {
        "id": "sUe2vnFGhLuu"
      },
      "source": [
        "## 1. Табличные данные и Pandas"
      ]
    },
    {
      "cell_type": "markdown",
      "metadata": {
        "id": "DJQzjjqJhLuu"
      },
      "source": [
        "Pandas — удобная библиотека для работы с табличными данными в Python, если данных не слишком много и они помещаются в оперативную память вашего компьютера. Несмотря на неэффективность реализации и некоторые проблемы, библиотека стала стандартом в анализе данных.\n",
        "\n",
        "Основной объект в pandas — это DataFrame, представляющий собой таблицу с именованными колонками различных типов, индексом (может быть многоуровневым). DataFrame можно создавать, считывая таблицу из файла или задавая вручную из других объектов.\n",
        "\n",
        "В этой части потребуется выполнить несколько небольших заданий. Можно пойти двумя путями: сначала изучить материалы, а потом приступить к заданиям, или же разбираться \"по ходу\". Выбирайте сами.\n",
        "\n",
        "Материалы:\n",
        "1. [Pandas за 10 минут из официального руководства](http://pandas.pydata.org/pandas-docs/stable/10min.html)\n",
        "2. [Документация](http://pandas.pydata.org/pandas-docs/stable/index.html) (стоит обращаться, если не понятно, как вызывать конкретный метод)\n",
        "3. [Примеры использования функционала](http://nbviewer.jupyter.org/github/justmarkham/pandas-videos/blob/master/pandas.ipynb)\n",
        "\n",
        "Многие из заданий можно выполнить несколькими способами. Не существуют единственно верного, но попробуйте максимально задействовать арсенал pandas и ориентируйтесь на простоту и понятность вашего кода. Мы не будем подсказывать, что нужно использовать для решения конкретной задачи, попробуйте находить необходимый функционал сами (название метода чаще всего очевидно). В помощь вам документация, поиск и stackoverflow."
      ]
    },
    {
      "cell_type": "code",
      "execution_count": 3,
      "metadata": {
        "colab": {
          "base_uri": "https://localhost:8080/"
        },
        "id": "26zbFY25hLuv",
        "outputId": "44cdf8bd-6b84-4a07-945e-771f1a0a2abc"
      },
      "outputs": [
        {
          "output_type": "stream",
          "name": "stdout",
          "text": [
            "Populating the interactive namespace from numpy and matplotlib\n"
          ]
        }
      ],
      "source": [
        "%pylab inline\n",
        "import pandas as pd\n",
        "import numpy as np\n",
        "from IPython.display import display"
      ]
    },
    {
      "cell_type": "markdown",
      "metadata": {
        "id": "DGZfW_NlDKaK"
      },
      "source": [
        "<span style=\"color:red\">Перед выполнением задания необходимо ознакомиться с первым семинаром (seminars/sem01-pandas.ipynb) </span>.\n",
        "\n",
        "Это поможет вам получить общее понимание происходяшего и успешнее справиться с заданием.\n",
        "\n",
        "Также успешному выполнению способствует внимательное чтение текста задания от начала до конца.\n",
        "\n",
        "Удачи!"
      ]
    },
    {
      "cell_type": "markdown",
      "metadata": {
        "id": "dneJl9TyhLuv"
      },
      "source": [
        "Скачаем подготовленные на семинаре данные:"
      ]
    },
    {
      "cell_type": "code",
      "execution_count": 4,
      "metadata": {
        "id": "rj_I0RslhLuw"
      },
      "outputs": [],
      "source": [
        "!wget  -O 'end_seminar.xlsx' -q 'https://www.dropbox.com/s/f4rm8sjc3v99p0m/_end_seminar.xlsx?dl=0'"
      ]
    },
    {
      "cell_type": "markdown",
      "metadata": {
        "id": "5hp7bn_ThLuw"
      },
      "source": [
        "Для пользователей Windows: скачайте файл самостоятельно и поместите его в папку с тетрадкой. Или попробуйте один из следующих вариантов:"
      ]
    },
    {
      "cell_type": "code",
      "execution_count": 5,
      "metadata": {
        "id": "4h4_BaX8hLuw"
      },
      "outputs": [],
      "source": [
        "# !powershell iwr -outf somefile https://somesite/somefile"
      ]
    },
    {
      "cell_type": "code",
      "execution_count": 6,
      "metadata": {
        "id": "7bHroLGChLuw"
      },
      "outputs": [],
      "source": [
        "# !pip install wget\n",
        "# import wget\n",
        "# wget.download('https://dropbox.com/s/f4rm8sjc3v99p0m/_end_seminar.xlsx?dl=1', 'end_seminar.xlsx')"
      ]
    },
    {
      "cell_type": "markdown",
      "metadata": {
        "id": "VFs_6IythLux"
      },
      "source": [
        "##### В первой части задания (до раздела \"Распределение студентов по курсам\") использование циклов запрещается и повлечет за собой снижение оценки. Использование <code>vectorize</code> и  <code>apply</code>, <code>apply_along_axis</code> крайне нежелательно."
      ]
    },
    {
      "cell_type": "markdown",
      "metadata": {
        "id": "shFkfJkohLux"
      },
      "source": [
        "Для каждой задачи из этого раздела вы должны написать код для получения ответа, а также дать текстовый ответ, если он предполагается.\n",
        "\n",
        "На некоторые вопросы вы можете получить путём пристального взгляда на таблицу, но это не будет засчитываться. Вы в любом случае должны получить ответ с помощью кода."
      ]
    },
    {
      "cell_type": "markdown",
      "metadata": {
        "id": "gDD85M7bhLux"
      },
      "source": [
        "#### 1. [0 баллов] Откройте файл с таблицей (не забудьте про её формат). Выведите последние 10 строк.\n",
        "\n",
        "Посмотрите на данные и скажите, что они из себя представляют, сколько в таблице строк, какие столбцы? (на это не надо отвечать, просто подумайте об этом)"
      ]
    },
    {
      "cell_type": "code",
      "execution_count": 7,
      "metadata": {
        "colab": {
          "base_uri": "https://localhost:8080/",
          "height": 372
        },
        "id": "PKulur3LhLuy",
        "outputId": "eba11f76-401f-45c3-a58b-3785eb1f1a3e"
      },
      "outputs": [
        {
          "output_type": "stream",
          "name": "stdout",
          "text": [
            "(361, 16)\n"
          ]
        },
        {
          "output_type": "execute_result",
          "data": {
            "text/plain": [
              "                  timestamp                                id  rating  \\\n",
              "308 2020-05-18 21:05:56.170  3d1f14bf03e6eee14d833c45ccff2283    1236   \n",
              "290 2020-05-18 18:04:18.543  93da3d13e0ae40a97367b0c16d497399    1090   \n",
              "142 2020-05-18 21:35:05.042  a69948a1730e412eab71a4d4e70791e2     663   \n",
              "\n",
              "     18_group  is_mi                                             fall_1  \\\n",
              "308       NaN    NaN                  Высокопроизводительные вычисления   \n",
              "290       NaN    NaN  Принятие решений в условиях риска и неопределё...   \n",
              "142     188.0    NaN                      Моделирование временных рядов   \n",
              "\n",
              "                                fall_2                                fall_3  \\\n",
              "308  Анализ неструктурированных данных  Глубинное обучение в обработке звука   \n",
              "290      Моделирование временных рядов  Глубинное обучение в обработке звука   \n",
              "142               Матричные вычисления                              Язык SQL   \n",
              "\n",
              "                                              spring_1  \\\n",
              "308  Проектирование и разработка высоконагруженных ...   \n",
              "290                             Конфликты и кооперация   \n",
              "142                                Машинное обучение 2   \n",
              "\n",
              "                                       spring_2  \\\n",
              "308                         Компьютерное зрение   \n",
              "290        Методы сжатия и передачи медиаданных   \n",
              "142  Дополнительные главы прикладной статистики   \n",
              "\n",
              "                                 spring_3 is_first_time  percentile  17_group  \\\n",
              "308  Методы сжатия и передачи медиаданных            Да    0.195652     175.0   \n",
              "290                 Символьные вычисления            Да    0.739130     177.0   \n",
              "142               Анализ данных в бизнесе            Да    0.349776       NaN   \n",
              "\n",
              "                                   blended  is_ml_student  \n",
              "308                                 DevOps            NaN  \n",
              "290  Введение в дифференциальную геометрию            NaN  \n",
              "142                                    NaN            NaN  "
            ],
            "text/html": [
              "\n",
              "  <div id=\"df-324dca8c-2a37-4526-a6ce-7a06ee7a8bf8\" class=\"colab-df-container\">\n",
              "    <div>\n",
              "<style scoped>\n",
              "    .dataframe tbody tr th:only-of-type {\n",
              "        vertical-align: middle;\n",
              "    }\n",
              "\n",
              "    .dataframe tbody tr th {\n",
              "        vertical-align: top;\n",
              "    }\n",
              "\n",
              "    .dataframe thead th {\n",
              "        text-align: right;\n",
              "    }\n",
              "</style>\n",
              "<table border=\"1\" class=\"dataframe\">\n",
              "  <thead>\n",
              "    <tr style=\"text-align: right;\">\n",
              "      <th></th>\n",
              "      <th>timestamp</th>\n",
              "      <th>id</th>\n",
              "      <th>rating</th>\n",
              "      <th>18_group</th>\n",
              "      <th>is_mi</th>\n",
              "      <th>fall_1</th>\n",
              "      <th>fall_2</th>\n",
              "      <th>fall_3</th>\n",
              "      <th>spring_1</th>\n",
              "      <th>spring_2</th>\n",
              "      <th>spring_3</th>\n",
              "      <th>is_first_time</th>\n",
              "      <th>percentile</th>\n",
              "      <th>17_group</th>\n",
              "      <th>blended</th>\n",
              "      <th>is_ml_student</th>\n",
              "    </tr>\n",
              "  </thead>\n",
              "  <tbody>\n",
              "    <tr>\n",
              "      <th>308</th>\n",
              "      <td>2020-05-18 21:05:56.170</td>\n",
              "      <td>3d1f14bf03e6eee14d833c45ccff2283</td>\n",
              "      <td>1236</td>\n",
              "      <td>NaN</td>\n",
              "      <td>NaN</td>\n",
              "      <td>Высокопроизводительные вычисления</td>\n",
              "      <td>Анализ неструктурированных данных</td>\n",
              "      <td>Глубинное обучение в обработке звука</td>\n",
              "      <td>Проектирование и разработка высоконагруженных ...</td>\n",
              "      <td>Компьютерное зрение</td>\n",
              "      <td>Методы сжатия и передачи медиаданных</td>\n",
              "      <td>Да</td>\n",
              "      <td>0.195652</td>\n",
              "      <td>175.0</td>\n",
              "      <td>DevOps</td>\n",
              "      <td>NaN</td>\n",
              "    </tr>\n",
              "    <tr>\n",
              "      <th>290</th>\n",
              "      <td>2020-05-18 18:04:18.543</td>\n",
              "      <td>93da3d13e0ae40a97367b0c16d497399</td>\n",
              "      <td>1090</td>\n",
              "      <td>NaN</td>\n",
              "      <td>NaN</td>\n",
              "      <td>Принятие решений в условиях риска и неопределё...</td>\n",
              "      <td>Моделирование временных рядов</td>\n",
              "      <td>Глубинное обучение в обработке звука</td>\n",
              "      <td>Конфликты и кооперация</td>\n",
              "      <td>Методы сжатия и передачи медиаданных</td>\n",
              "      <td>Символьные вычисления</td>\n",
              "      <td>Да</td>\n",
              "      <td>0.739130</td>\n",
              "      <td>177.0</td>\n",
              "      <td>Введение в дифференциальную геометрию</td>\n",
              "      <td>NaN</td>\n",
              "    </tr>\n",
              "    <tr>\n",
              "      <th>142</th>\n",
              "      <td>2020-05-18 21:35:05.042</td>\n",
              "      <td>a69948a1730e412eab71a4d4e70791e2</td>\n",
              "      <td>663</td>\n",
              "      <td>188.0</td>\n",
              "      <td>NaN</td>\n",
              "      <td>Моделирование временных рядов</td>\n",
              "      <td>Матричные вычисления</td>\n",
              "      <td>Язык SQL</td>\n",
              "      <td>Машинное обучение 2</td>\n",
              "      <td>Дополнительные главы прикладной статистики</td>\n",
              "      <td>Анализ данных в бизнесе</td>\n",
              "      <td>Да</td>\n",
              "      <td>0.349776</td>\n",
              "      <td>NaN</td>\n",
              "      <td>NaN</td>\n",
              "      <td>NaN</td>\n",
              "    </tr>\n",
              "  </tbody>\n",
              "</table>\n",
              "</div>\n",
              "    <div class=\"colab-df-buttons\">\n",
              "\n",
              "  <div class=\"colab-df-container\">\n",
              "    <button class=\"colab-df-convert\" onclick=\"convertToInteractive('df-324dca8c-2a37-4526-a6ce-7a06ee7a8bf8')\"\n",
              "            title=\"Convert this dataframe to an interactive table.\"\n",
              "            style=\"display:none;\">\n",
              "\n",
              "  <svg xmlns=\"http://www.w3.org/2000/svg\" height=\"24px\" viewBox=\"0 -960 960 960\">\n",
              "    <path d=\"M120-120v-720h720v720H120Zm60-500h600v-160H180v160Zm220 220h160v-160H400v160Zm0 220h160v-160H400v160ZM180-400h160v-160H180v160Zm440 0h160v-160H620v160ZM180-180h160v-160H180v160Zm440 0h160v-160H620v160Z\"/>\n",
              "  </svg>\n",
              "    </button>\n",
              "\n",
              "  <style>\n",
              "    .colab-df-container {\n",
              "      display:flex;\n",
              "      gap: 12px;\n",
              "    }\n",
              "\n",
              "    .colab-df-convert {\n",
              "      background-color: #E8F0FE;\n",
              "      border: none;\n",
              "      border-radius: 50%;\n",
              "      cursor: pointer;\n",
              "      display: none;\n",
              "      fill: #1967D2;\n",
              "      height: 32px;\n",
              "      padding: 0 0 0 0;\n",
              "      width: 32px;\n",
              "    }\n",
              "\n",
              "    .colab-df-convert:hover {\n",
              "      background-color: #E2EBFA;\n",
              "      box-shadow: 0px 1px 2px rgba(60, 64, 67, 0.3), 0px 1px 3px 1px rgba(60, 64, 67, 0.15);\n",
              "      fill: #174EA6;\n",
              "    }\n",
              "\n",
              "    .colab-df-buttons div {\n",
              "      margin-bottom: 4px;\n",
              "    }\n",
              "\n",
              "    [theme=dark] .colab-df-convert {\n",
              "      background-color: #3B4455;\n",
              "      fill: #D2E3FC;\n",
              "    }\n",
              "\n",
              "    [theme=dark] .colab-df-convert:hover {\n",
              "      background-color: #434B5C;\n",
              "      box-shadow: 0px 1px 3px 1px rgba(0, 0, 0, 0.15);\n",
              "      filter: drop-shadow(0px 1px 2px rgba(0, 0, 0, 0.3));\n",
              "      fill: #FFFFFF;\n",
              "    }\n",
              "  </style>\n",
              "\n",
              "    <script>\n",
              "      const buttonEl =\n",
              "        document.querySelector('#df-324dca8c-2a37-4526-a6ce-7a06ee7a8bf8 button.colab-df-convert');\n",
              "      buttonEl.style.display =\n",
              "        google.colab.kernel.accessAllowed ? 'block' : 'none';\n",
              "\n",
              "      async function convertToInteractive(key) {\n",
              "        const element = document.querySelector('#df-324dca8c-2a37-4526-a6ce-7a06ee7a8bf8');\n",
              "        const dataTable =\n",
              "          await google.colab.kernel.invokeFunction('convertToInteractive',\n",
              "                                                    [key], {});\n",
              "        if (!dataTable) return;\n",
              "\n",
              "        const docLinkHtml = 'Like what you see? Visit the ' +\n",
              "          '<a target=\"_blank\" href=https://colab.research.google.com/notebooks/data_table.ipynb>data table notebook</a>'\n",
              "          + ' to learn more about interactive tables.';\n",
              "        element.innerHTML = '';\n",
              "        dataTable['output_type'] = 'display_data';\n",
              "        await google.colab.output.renderOutput(dataTable, element);\n",
              "        const docLink = document.createElement('div');\n",
              "        docLink.innerHTML = docLinkHtml;\n",
              "        element.appendChild(docLink);\n",
              "      }\n",
              "    </script>\n",
              "  </div>\n",
              "\n",
              "\n",
              "<div id=\"df-2eb104bc-094f-4319-b6dc-517803fb6d11\">\n",
              "  <button class=\"colab-df-quickchart\" onclick=\"quickchart('df-2eb104bc-094f-4319-b6dc-517803fb6d11')\"\n",
              "            title=\"Suggest charts.\"\n",
              "            style=\"display:none;\">\n",
              "\n",
              "<svg xmlns=\"http://www.w3.org/2000/svg\" height=\"24px\"viewBox=\"0 0 24 24\"\n",
              "     width=\"24px\">\n",
              "    <g>\n",
              "        <path d=\"M19 3H5c-1.1 0-2 .9-2 2v14c0 1.1.9 2 2 2h14c1.1 0 2-.9 2-2V5c0-1.1-.9-2-2-2zM9 17H7v-7h2v7zm4 0h-2V7h2v10zm4 0h-2v-4h2v4z\"/>\n",
              "    </g>\n",
              "</svg>\n",
              "  </button>\n",
              "\n",
              "<style>\n",
              "  .colab-df-quickchart {\n",
              "      --bg-color: #E8F0FE;\n",
              "      --fill-color: #1967D2;\n",
              "      --hover-bg-color: #E2EBFA;\n",
              "      --hover-fill-color: #174EA6;\n",
              "      --disabled-fill-color: #AAA;\n",
              "      --disabled-bg-color: #DDD;\n",
              "  }\n",
              "\n",
              "  [theme=dark] .colab-df-quickchart {\n",
              "      --bg-color: #3B4455;\n",
              "      --fill-color: #D2E3FC;\n",
              "      --hover-bg-color: #434B5C;\n",
              "      --hover-fill-color: #FFFFFF;\n",
              "      --disabled-bg-color: #3B4455;\n",
              "      --disabled-fill-color: #666;\n",
              "  }\n",
              "\n",
              "  .colab-df-quickchart {\n",
              "    background-color: var(--bg-color);\n",
              "    border: none;\n",
              "    border-radius: 50%;\n",
              "    cursor: pointer;\n",
              "    display: none;\n",
              "    fill: var(--fill-color);\n",
              "    height: 32px;\n",
              "    padding: 0;\n",
              "    width: 32px;\n",
              "  }\n",
              "\n",
              "  .colab-df-quickchart:hover {\n",
              "    background-color: var(--hover-bg-color);\n",
              "    box-shadow: 0 1px 2px rgba(60, 64, 67, 0.3), 0 1px 3px 1px rgba(60, 64, 67, 0.15);\n",
              "    fill: var(--button-hover-fill-color);\n",
              "  }\n",
              "\n",
              "  .colab-df-quickchart-complete:disabled,\n",
              "  .colab-df-quickchart-complete:disabled:hover {\n",
              "    background-color: var(--disabled-bg-color);\n",
              "    fill: var(--disabled-fill-color);\n",
              "    box-shadow: none;\n",
              "  }\n",
              "\n",
              "  .colab-df-spinner {\n",
              "    border: 2px solid var(--fill-color);\n",
              "    border-color: transparent;\n",
              "    border-bottom-color: var(--fill-color);\n",
              "    animation:\n",
              "      spin 1s steps(1) infinite;\n",
              "  }\n",
              "\n",
              "  @keyframes spin {\n",
              "    0% {\n",
              "      border-color: transparent;\n",
              "      border-bottom-color: var(--fill-color);\n",
              "      border-left-color: var(--fill-color);\n",
              "    }\n",
              "    20% {\n",
              "      border-color: transparent;\n",
              "      border-left-color: var(--fill-color);\n",
              "      border-top-color: var(--fill-color);\n",
              "    }\n",
              "    30% {\n",
              "      border-color: transparent;\n",
              "      border-left-color: var(--fill-color);\n",
              "      border-top-color: var(--fill-color);\n",
              "      border-right-color: var(--fill-color);\n",
              "    }\n",
              "    40% {\n",
              "      border-color: transparent;\n",
              "      border-right-color: var(--fill-color);\n",
              "      border-top-color: var(--fill-color);\n",
              "    }\n",
              "    60% {\n",
              "      border-color: transparent;\n",
              "      border-right-color: var(--fill-color);\n",
              "    }\n",
              "    80% {\n",
              "      border-color: transparent;\n",
              "      border-right-color: var(--fill-color);\n",
              "      border-bottom-color: var(--fill-color);\n",
              "    }\n",
              "    90% {\n",
              "      border-color: transparent;\n",
              "      border-bottom-color: var(--fill-color);\n",
              "    }\n",
              "  }\n",
              "</style>\n",
              "\n",
              "  <script>\n",
              "    async function quickchart(key) {\n",
              "      const quickchartButtonEl =\n",
              "        document.querySelector('#' + key + ' button');\n",
              "      quickchartButtonEl.disabled = true;  // To prevent multiple clicks.\n",
              "      quickchartButtonEl.classList.add('colab-df-spinner');\n",
              "      try {\n",
              "        const charts = await google.colab.kernel.invokeFunction(\n",
              "            'suggestCharts', [key], {});\n",
              "      } catch (error) {\n",
              "        console.error('Error during call to suggestCharts:', error);\n",
              "      }\n",
              "      quickchartButtonEl.classList.remove('colab-df-spinner');\n",
              "      quickchartButtonEl.classList.add('colab-df-quickchart-complete');\n",
              "    }\n",
              "    (() => {\n",
              "      let quickchartButtonEl =\n",
              "        document.querySelector('#df-2eb104bc-094f-4319-b6dc-517803fb6d11 button');\n",
              "      quickchartButtonEl.style.display =\n",
              "        google.colab.kernel.accessAllowed ? 'block' : 'none';\n",
              "    })();\n",
              "  </script>\n",
              "</div>\n",
              "    </div>\n",
              "  </div>\n"
            ]
          },
          "metadata": {},
          "execution_count": 7
        }
      ],
      "source": [
        "data = pd.read_excel('end_seminar.xlsx')\n",
        "print(data.shape)\n",
        "data.sample(3)"
      ]
    },
    {
      "cell_type": "markdown",
      "metadata": {
        "id": "jPiMwyqHhLuy"
      },
      "source": [
        "#### 2. [0.5 балла] Есть ли в данных пропуски? В каких колонках? Сколько их в каждой из этих колонок?"
      ]
    },
    {
      "cell_type": "code",
      "execution_count": 8,
      "metadata": {
        "colab": {
          "base_uri": "https://localhost:8080/"
        },
        "id": "edY1RrSOhLuy",
        "outputId": "beeb7dad-829c-43e7-c0ae-ae80fa403fec"
      },
      "outputs": [
        {
          "output_type": "execute_result",
          "data": {
            "text/plain": [
              "timestamp          0\n",
              "id                 0\n",
              "rating             0\n",
              "18_group         138\n",
              "is_mi            343\n",
              "fall_1             0\n",
              "fall_2             0\n",
              "fall_3             0\n",
              "spring_1           0\n",
              "spring_2           0\n",
              "spring_3           0\n",
              "is_first_time      2\n",
              "percentile         0\n",
              "17_group         223\n",
              "blended          223\n",
              "is_ml_student    304\n",
              "dtype: int64"
            ]
          },
          "metadata": {},
          "execution_count": 8
        }
      ],
      "source": [
        "data.isna().sum()"
      ]
    },
    {
      "cell_type": "markdown",
      "metadata": {
        "id": "COVt16r_DfMv"
      },
      "source": [
        "Да, в данных есть пропуски. Как мы можем видеть пропуски есть в шести колонках: 18_group - 138, is_mi - 343, is_first_time - 2, 17_group - 223, blended - 223, is_ml_student - 304 пропуска соответственно"
      ]
    },
    {
      "cell_type": "markdown",
      "metadata": {
        "id": "B5ORhP2uhLuz"
      },
      "source": [
        "Заполните пропуски пустой строкой для строковых колонок и нулём для числовых (постарайтесь избежать перечисления названий всех столбцов).\n",
        "\n",
        "Посмотрим какого типа каждый из столбцов и заполним сначала строковые колонки, а затем все остальное"
      ]
    },
    {
      "cell_type": "code",
      "execution_count": 9,
      "metadata": {
        "colab": {
          "base_uri": "https://localhost:8080/"
        },
        "id": "EheRNwwaG_X4",
        "outputId": "7c87b5ad-cbc2-42fd-cbd8-006bc188653d"
      },
      "outputs": [
        {
          "output_type": "execute_result",
          "data": {
            "text/plain": [
              "timestamp        datetime64[ns]\n",
              "id                       object\n",
              "rating                    int64\n",
              "18_group                float64\n",
              "is_mi                   float64\n",
              "fall_1                   object\n",
              "fall_2                   object\n",
              "fall_3                   object\n",
              "spring_1                 object\n",
              "spring_2                 object\n",
              "spring_3                 object\n",
              "is_first_time            object\n",
              "percentile              float64\n",
              "17_group                float64\n",
              "blended                  object\n",
              "is_ml_student           float64\n",
              "dtype: object"
            ]
          },
          "metadata": {},
          "execution_count": 9
        }
      ],
      "source": [
        "data.dtypes"
      ]
    },
    {
      "cell_type": "code",
      "execution_count": 10,
      "metadata": {
        "colab": {
          "base_uri": "https://localhost:8080/",
          "height": 625
        },
        "id": "TlF_JJ2ghLuz",
        "outputId": "8e2d3d6f-4ebe-4164-c306-9e7a8b54e8a3"
      },
      "outputs": [
        {
          "output_type": "display_data",
          "data": {
            "text/plain": [
              "timestamp          0\n",
              "id                 0\n",
              "rating             0\n",
              "18_group         138\n",
              "is_mi            343\n",
              "fall_1             0\n",
              "fall_2             0\n",
              "fall_3             0\n",
              "spring_1           0\n",
              "spring_2           0\n",
              "spring_3           0\n",
              "is_first_time      0\n",
              "percentile         0\n",
              "17_group         223\n",
              "blended            0\n",
              "is_ml_student    304\n",
              "dtype: int64"
            ]
          },
          "metadata": {}
        },
        {
          "output_type": "stream",
          "name": "stdout",
          "text": [
            "-----------------\n"
          ]
        },
        {
          "output_type": "execute_result",
          "data": {
            "text/plain": [
              "timestamp        0\n",
              "id               0\n",
              "rating           0\n",
              "18_group         0\n",
              "is_mi            0\n",
              "fall_1           0\n",
              "fall_2           0\n",
              "fall_3           0\n",
              "spring_1         0\n",
              "spring_2         0\n",
              "spring_3         0\n",
              "is_first_time    0\n",
              "percentile       0\n",
              "17_group         0\n",
              "blended          0\n",
              "is_ml_student    0\n",
              "dtype: int64"
            ]
          },
          "metadata": {},
          "execution_count": 10
        }
      ],
      "source": [
        "data.fillna({\"is_first_time\": \"\", \"blended\": \"\"}, inplace=True)\n",
        "display(data.isna().sum())\n",
        "print('-----------------')\n",
        "data.fillna(0, inplace=True)\n",
        "data.isna().sum()"
      ]
    },
    {
      "cell_type": "markdown",
      "metadata": {
        "id": "w5ELhkT1hLuz"
      },
      "source": [
        "#### 3. [0.5 балла] Посмотрите повнимательнее на колонку 'is_first_time'.\n",
        "\n",
        "Есть ли в ней ответы \"Нет\"? Сколько их?\n",
        "\n",
        "Если вы найдете повторные обращения студентов, оставьте только самую позднюю версию. В дальнейших заданиях используйте версию данных без повторов.\n",
        "\n",
        "<i>Обращения со значением \"Нет\" в 'is_first_time' могут быть как повторными, так и первичными, поскольку поле заполняли сами студенты.</i>"
      ]
    },
    {
      "cell_type": "code",
      "execution_count": 11,
      "metadata": {
        "colab": {
          "base_uri": "https://localhost:8080/"
        },
        "id": "VEfiNsyQhLuz",
        "outputId": "415f8656-5912-4e39-ebf3-efa2cee6f82e"
      },
      "outputs": [
        {
          "output_type": "execute_result",
          "data": {
            "text/plain": [
              "Да     308\n",
              "Нет     51\n",
              "         2\n",
              "Name: is_first_time, dtype: int64"
            ]
          },
          "metadata": {},
          "execution_count": 11
        }
      ],
      "source": [
        "data[\"is_first_time\"].value_counts()"
      ]
    },
    {
      "cell_type": "markdown",
      "metadata": {
        "id": "7r1uD1ryVYUF"
      },
      "source": [
        "В таблице есть целый 51 ответ \"Нет\""
      ]
    },
    {
      "cell_type": "code",
      "execution_count": 12,
      "metadata": {
        "colab": {
          "base_uri": "https://localhost:8080/"
        },
        "id": "hjP7jj6CRjUB",
        "outputId": "74dedf0a-8f15-4121-9209-cabf5aeb3a0d"
      },
      "outputs": [
        {
          "output_type": "execute_result",
          "data": {
            "text/plain": [
              "(347, 16)"
            ]
          },
          "metadata": {},
          "execution_count": 12
        }
      ],
      "source": [
        "data = data.drop_duplicates(subset='id', keep='last')\n",
        "data.shape"
      ]
    },
    {
      "cell_type": "markdown",
      "metadata": {
        "id": "hwr0zcjcVW0f"
      },
      "source": [
        "Была 361 строчка, а стало 347, значит 361 - 347 = 14 раз форма была заполнена повторно"
      ]
    },
    {
      "cell_type": "markdown",
      "metadata": {
        "id": "Jhk3tVpVhLuy"
      },
      "source": [
        "#### 4. [0.5 балла] Ответьте на вопросы:\n",
        "1. Сколько было заявок из групп 18-го года набора, а сколько из групп 17-го года?\n",
        "2. Есть ли студенты с равными перцентилями (среди объединенных данных, ведь конкурс на каждый курс общий)?"
      ]
    },
    {
      "cell_type": "code",
      "execution_count": 13,
      "metadata": {
        "colab": {
          "base_uri": "https://localhost:8080/",
          "height": 584
        },
        "id": "bsn4vn8RhLuy",
        "outputId": "d6bbca3d-167e-4504-f635-ca2f7ba05bbb"
      },
      "outputs": [
        {
          "output_type": "display_data",
          "data": {
            "text/plain": [
              "            rating  18_group  is_mi  percentile    17_group  is_ml_student\n",
              "count   134.000000     134.0  134.0  134.000000  134.000000          134.0\n",
              "mean   1158.126866       0.0    0.0    0.493186  173.373134            0.0\n",
              "std      92.574897       0.0    0.0    0.291292    1.805054            0.0\n",
              "min     964.000000       0.0    0.0    0.000000  171.000000            0.0\n",
              "25%    1090.250000       0.0    0.0    0.240942  172.000000            0.0\n",
              "50%    1159.500000       0.0    0.0    0.489130  173.000000            0.0\n",
              "75%    1219.750000       0.0    0.0    0.737319  175.000000            0.0\n",
              "max    1457.000000       0.0    0.0    0.992754  177.000000            0.0"
            ],
            "text/html": [
              "\n",
              "  <div id=\"df-3f2e16dd-2632-4f78-90a0-65a28c3198ef\" class=\"colab-df-container\">\n",
              "    <div>\n",
              "<style scoped>\n",
              "    .dataframe tbody tr th:only-of-type {\n",
              "        vertical-align: middle;\n",
              "    }\n",
              "\n",
              "    .dataframe tbody tr th {\n",
              "        vertical-align: top;\n",
              "    }\n",
              "\n",
              "    .dataframe thead th {\n",
              "        text-align: right;\n",
              "    }\n",
              "</style>\n",
              "<table border=\"1\" class=\"dataframe\">\n",
              "  <thead>\n",
              "    <tr style=\"text-align: right;\">\n",
              "      <th></th>\n",
              "      <th>rating</th>\n",
              "      <th>18_group</th>\n",
              "      <th>is_mi</th>\n",
              "      <th>percentile</th>\n",
              "      <th>17_group</th>\n",
              "      <th>is_ml_student</th>\n",
              "    </tr>\n",
              "  </thead>\n",
              "  <tbody>\n",
              "    <tr>\n",
              "      <th>count</th>\n",
              "      <td>134.000000</td>\n",
              "      <td>134.0</td>\n",
              "      <td>134.0</td>\n",
              "      <td>134.000000</td>\n",
              "      <td>134.000000</td>\n",
              "      <td>134.0</td>\n",
              "    </tr>\n",
              "    <tr>\n",
              "      <th>mean</th>\n",
              "      <td>1158.126866</td>\n",
              "      <td>0.0</td>\n",
              "      <td>0.0</td>\n",
              "      <td>0.493186</td>\n",
              "      <td>173.373134</td>\n",
              "      <td>0.0</td>\n",
              "    </tr>\n",
              "    <tr>\n",
              "      <th>std</th>\n",
              "      <td>92.574897</td>\n",
              "      <td>0.0</td>\n",
              "      <td>0.0</td>\n",
              "      <td>0.291292</td>\n",
              "      <td>1.805054</td>\n",
              "      <td>0.0</td>\n",
              "    </tr>\n",
              "    <tr>\n",
              "      <th>min</th>\n",
              "      <td>964.000000</td>\n",
              "      <td>0.0</td>\n",
              "      <td>0.0</td>\n",
              "      <td>0.000000</td>\n",
              "      <td>171.000000</td>\n",
              "      <td>0.0</td>\n",
              "    </tr>\n",
              "    <tr>\n",
              "      <th>25%</th>\n",
              "      <td>1090.250000</td>\n",
              "      <td>0.0</td>\n",
              "      <td>0.0</td>\n",
              "      <td>0.240942</td>\n",
              "      <td>172.000000</td>\n",
              "      <td>0.0</td>\n",
              "    </tr>\n",
              "    <tr>\n",
              "      <th>50%</th>\n",
              "      <td>1159.500000</td>\n",
              "      <td>0.0</td>\n",
              "      <td>0.0</td>\n",
              "      <td>0.489130</td>\n",
              "      <td>173.000000</td>\n",
              "      <td>0.0</td>\n",
              "    </tr>\n",
              "    <tr>\n",
              "      <th>75%</th>\n",
              "      <td>1219.750000</td>\n",
              "      <td>0.0</td>\n",
              "      <td>0.0</td>\n",
              "      <td>0.737319</td>\n",
              "      <td>175.000000</td>\n",
              "      <td>0.0</td>\n",
              "    </tr>\n",
              "    <tr>\n",
              "      <th>max</th>\n",
              "      <td>1457.000000</td>\n",
              "      <td>0.0</td>\n",
              "      <td>0.0</td>\n",
              "      <td>0.992754</td>\n",
              "      <td>177.000000</td>\n",
              "      <td>0.0</td>\n",
              "    </tr>\n",
              "  </tbody>\n",
              "</table>\n",
              "</div>\n",
              "    <div class=\"colab-df-buttons\">\n",
              "\n",
              "  <div class=\"colab-df-container\">\n",
              "    <button class=\"colab-df-convert\" onclick=\"convertToInteractive('df-3f2e16dd-2632-4f78-90a0-65a28c3198ef')\"\n",
              "            title=\"Convert this dataframe to an interactive table.\"\n",
              "            style=\"display:none;\">\n",
              "\n",
              "  <svg xmlns=\"http://www.w3.org/2000/svg\" height=\"24px\" viewBox=\"0 -960 960 960\">\n",
              "    <path d=\"M120-120v-720h720v720H120Zm60-500h600v-160H180v160Zm220 220h160v-160H400v160Zm0 220h160v-160H400v160ZM180-400h160v-160H180v160Zm440 0h160v-160H620v160ZM180-180h160v-160H180v160Zm440 0h160v-160H620v160Z\"/>\n",
              "  </svg>\n",
              "    </button>\n",
              "\n",
              "  <style>\n",
              "    .colab-df-container {\n",
              "      display:flex;\n",
              "      gap: 12px;\n",
              "    }\n",
              "\n",
              "    .colab-df-convert {\n",
              "      background-color: #E8F0FE;\n",
              "      border: none;\n",
              "      border-radius: 50%;\n",
              "      cursor: pointer;\n",
              "      display: none;\n",
              "      fill: #1967D2;\n",
              "      height: 32px;\n",
              "      padding: 0 0 0 0;\n",
              "      width: 32px;\n",
              "    }\n",
              "\n",
              "    .colab-df-convert:hover {\n",
              "      background-color: #E2EBFA;\n",
              "      box-shadow: 0px 1px 2px rgba(60, 64, 67, 0.3), 0px 1px 3px 1px rgba(60, 64, 67, 0.15);\n",
              "      fill: #174EA6;\n",
              "    }\n",
              "\n",
              "    .colab-df-buttons div {\n",
              "      margin-bottom: 4px;\n",
              "    }\n",
              "\n",
              "    [theme=dark] .colab-df-convert {\n",
              "      background-color: #3B4455;\n",
              "      fill: #D2E3FC;\n",
              "    }\n",
              "\n",
              "    [theme=dark] .colab-df-convert:hover {\n",
              "      background-color: #434B5C;\n",
              "      box-shadow: 0px 1px 3px 1px rgba(0, 0, 0, 0.15);\n",
              "      filter: drop-shadow(0px 1px 2px rgba(0, 0, 0, 0.3));\n",
              "      fill: #FFFFFF;\n",
              "    }\n",
              "  </style>\n",
              "\n",
              "    <script>\n",
              "      const buttonEl =\n",
              "        document.querySelector('#df-3f2e16dd-2632-4f78-90a0-65a28c3198ef button.colab-df-convert');\n",
              "      buttonEl.style.display =\n",
              "        google.colab.kernel.accessAllowed ? 'block' : 'none';\n",
              "\n",
              "      async function convertToInteractive(key) {\n",
              "        const element = document.querySelector('#df-3f2e16dd-2632-4f78-90a0-65a28c3198ef');\n",
              "        const dataTable =\n",
              "          await google.colab.kernel.invokeFunction('convertToInteractive',\n",
              "                                                    [key], {});\n",
              "        if (!dataTable) return;\n",
              "\n",
              "        const docLinkHtml = 'Like what you see? Visit the ' +\n",
              "          '<a target=\"_blank\" href=https://colab.research.google.com/notebooks/data_table.ipynb>data table notebook</a>'\n",
              "          + ' to learn more about interactive tables.';\n",
              "        element.innerHTML = '';\n",
              "        dataTable['output_type'] = 'display_data';\n",
              "        await google.colab.output.renderOutput(dataTable, element);\n",
              "        const docLink = document.createElement('div');\n",
              "        docLink.innerHTML = docLinkHtml;\n",
              "        element.appendChild(docLink);\n",
              "      }\n",
              "    </script>\n",
              "  </div>\n",
              "\n",
              "\n",
              "<div id=\"df-f3f11818-c239-457d-bc16-4f2c08d16002\">\n",
              "  <button class=\"colab-df-quickchart\" onclick=\"quickchart('df-f3f11818-c239-457d-bc16-4f2c08d16002')\"\n",
              "            title=\"Suggest charts.\"\n",
              "            style=\"display:none;\">\n",
              "\n",
              "<svg xmlns=\"http://www.w3.org/2000/svg\" height=\"24px\"viewBox=\"0 0 24 24\"\n",
              "     width=\"24px\">\n",
              "    <g>\n",
              "        <path d=\"M19 3H5c-1.1 0-2 .9-2 2v14c0 1.1.9 2 2 2h14c1.1 0 2-.9 2-2V5c0-1.1-.9-2-2-2zM9 17H7v-7h2v7zm4 0h-2V7h2v10zm4 0h-2v-4h2v4z\"/>\n",
              "    </g>\n",
              "</svg>\n",
              "  </button>\n",
              "\n",
              "<style>\n",
              "  .colab-df-quickchart {\n",
              "      --bg-color: #E8F0FE;\n",
              "      --fill-color: #1967D2;\n",
              "      --hover-bg-color: #E2EBFA;\n",
              "      --hover-fill-color: #174EA6;\n",
              "      --disabled-fill-color: #AAA;\n",
              "      --disabled-bg-color: #DDD;\n",
              "  }\n",
              "\n",
              "  [theme=dark] .colab-df-quickchart {\n",
              "      --bg-color: #3B4455;\n",
              "      --fill-color: #D2E3FC;\n",
              "      --hover-bg-color: #434B5C;\n",
              "      --hover-fill-color: #FFFFFF;\n",
              "      --disabled-bg-color: #3B4455;\n",
              "      --disabled-fill-color: #666;\n",
              "  }\n",
              "\n",
              "  .colab-df-quickchart {\n",
              "    background-color: var(--bg-color);\n",
              "    border: none;\n",
              "    border-radius: 50%;\n",
              "    cursor: pointer;\n",
              "    display: none;\n",
              "    fill: var(--fill-color);\n",
              "    height: 32px;\n",
              "    padding: 0;\n",
              "    width: 32px;\n",
              "  }\n",
              "\n",
              "  .colab-df-quickchart:hover {\n",
              "    background-color: var(--hover-bg-color);\n",
              "    box-shadow: 0 1px 2px rgba(60, 64, 67, 0.3), 0 1px 3px 1px rgba(60, 64, 67, 0.15);\n",
              "    fill: var(--button-hover-fill-color);\n",
              "  }\n",
              "\n",
              "  .colab-df-quickchart-complete:disabled,\n",
              "  .colab-df-quickchart-complete:disabled:hover {\n",
              "    background-color: var(--disabled-bg-color);\n",
              "    fill: var(--disabled-fill-color);\n",
              "    box-shadow: none;\n",
              "  }\n",
              "\n",
              "  .colab-df-spinner {\n",
              "    border: 2px solid var(--fill-color);\n",
              "    border-color: transparent;\n",
              "    border-bottom-color: var(--fill-color);\n",
              "    animation:\n",
              "      spin 1s steps(1) infinite;\n",
              "  }\n",
              "\n",
              "  @keyframes spin {\n",
              "    0% {\n",
              "      border-color: transparent;\n",
              "      border-bottom-color: var(--fill-color);\n",
              "      border-left-color: var(--fill-color);\n",
              "    }\n",
              "    20% {\n",
              "      border-color: transparent;\n",
              "      border-left-color: var(--fill-color);\n",
              "      border-top-color: var(--fill-color);\n",
              "    }\n",
              "    30% {\n",
              "      border-color: transparent;\n",
              "      border-left-color: var(--fill-color);\n",
              "      border-top-color: var(--fill-color);\n",
              "      border-right-color: var(--fill-color);\n",
              "    }\n",
              "    40% {\n",
              "      border-color: transparent;\n",
              "      border-right-color: var(--fill-color);\n",
              "      border-top-color: var(--fill-color);\n",
              "    }\n",
              "    60% {\n",
              "      border-color: transparent;\n",
              "      border-right-color: var(--fill-color);\n",
              "    }\n",
              "    80% {\n",
              "      border-color: transparent;\n",
              "      border-right-color: var(--fill-color);\n",
              "      border-bottom-color: var(--fill-color);\n",
              "    }\n",
              "    90% {\n",
              "      border-color: transparent;\n",
              "      border-bottom-color: var(--fill-color);\n",
              "    }\n",
              "  }\n",
              "</style>\n",
              "\n",
              "  <script>\n",
              "    async function quickchart(key) {\n",
              "      const quickchartButtonEl =\n",
              "        document.querySelector('#' + key + ' button');\n",
              "      quickchartButtonEl.disabled = true;  // To prevent multiple clicks.\n",
              "      quickchartButtonEl.classList.add('colab-df-spinner');\n",
              "      try {\n",
              "        const charts = await google.colab.kernel.invokeFunction(\n",
              "            'suggestCharts', [key], {});\n",
              "      } catch (error) {\n",
              "        console.error('Error during call to suggestCharts:', error);\n",
              "      }\n",
              "      quickchartButtonEl.classList.remove('colab-df-spinner');\n",
              "      quickchartButtonEl.classList.add('colab-df-quickchart-complete');\n",
              "    }\n",
              "    (() => {\n",
              "      let quickchartButtonEl =\n",
              "        document.querySelector('#df-f3f11818-c239-457d-bc16-4f2c08d16002 button');\n",
              "      quickchartButtonEl.style.display =\n",
              "        google.colab.kernel.accessAllowed ? 'block' : 'none';\n",
              "    })();\n",
              "  </script>\n",
              "</div>\n",
              "    </div>\n",
              "  </div>\n"
            ]
          },
          "metadata": {}
        },
        {
          "output_type": "display_data",
          "data": {
            "text/plain": [
              "           rating    18_group       is_mi  percentile  17_group  is_ml_student\n",
              "count  213.000000  213.000000  213.000000  213.000000     213.0     213.000000\n",
              "mean   633.901408  184.469484    0.075117    0.493610       0.0       0.262911\n",
              "std     68.016124    2.283092    0.264202    0.291209       0.0       0.441251\n",
              "min    495.000000  181.000000    0.000000    0.000000       0.0       0.000000\n",
              "25%    580.000000  183.000000    0.000000    0.242152       0.0       0.000000\n",
              "50%    633.000000  185.000000    0.000000    0.488789       0.0       0.000000\n",
              "75%    686.000000  186.000000    0.000000    0.739910       0.0       1.000000\n",
              "max    784.000000  188.000000    1.000000    0.995516       0.0       1.000000"
            ],
            "text/html": [
              "\n",
              "  <div id=\"df-4d96550f-be26-4082-b189-b028d92eeb78\" class=\"colab-df-container\">\n",
              "    <div>\n",
              "<style scoped>\n",
              "    .dataframe tbody tr th:only-of-type {\n",
              "        vertical-align: middle;\n",
              "    }\n",
              "\n",
              "    .dataframe tbody tr th {\n",
              "        vertical-align: top;\n",
              "    }\n",
              "\n",
              "    .dataframe thead th {\n",
              "        text-align: right;\n",
              "    }\n",
              "</style>\n",
              "<table border=\"1\" class=\"dataframe\">\n",
              "  <thead>\n",
              "    <tr style=\"text-align: right;\">\n",
              "      <th></th>\n",
              "      <th>rating</th>\n",
              "      <th>18_group</th>\n",
              "      <th>is_mi</th>\n",
              "      <th>percentile</th>\n",
              "      <th>17_group</th>\n",
              "      <th>is_ml_student</th>\n",
              "    </tr>\n",
              "  </thead>\n",
              "  <tbody>\n",
              "    <tr>\n",
              "      <th>count</th>\n",
              "      <td>213.000000</td>\n",
              "      <td>213.000000</td>\n",
              "      <td>213.000000</td>\n",
              "      <td>213.000000</td>\n",
              "      <td>213.0</td>\n",
              "      <td>213.000000</td>\n",
              "    </tr>\n",
              "    <tr>\n",
              "      <th>mean</th>\n",
              "      <td>633.901408</td>\n",
              "      <td>184.469484</td>\n",
              "      <td>0.075117</td>\n",
              "      <td>0.493610</td>\n",
              "      <td>0.0</td>\n",
              "      <td>0.262911</td>\n",
              "    </tr>\n",
              "    <tr>\n",
              "      <th>std</th>\n",
              "      <td>68.016124</td>\n",
              "      <td>2.283092</td>\n",
              "      <td>0.264202</td>\n",
              "      <td>0.291209</td>\n",
              "      <td>0.0</td>\n",
              "      <td>0.441251</td>\n",
              "    </tr>\n",
              "    <tr>\n",
              "      <th>min</th>\n",
              "      <td>495.000000</td>\n",
              "      <td>181.000000</td>\n",
              "      <td>0.000000</td>\n",
              "      <td>0.000000</td>\n",
              "      <td>0.0</td>\n",
              "      <td>0.000000</td>\n",
              "    </tr>\n",
              "    <tr>\n",
              "      <th>25%</th>\n",
              "      <td>580.000000</td>\n",
              "      <td>183.000000</td>\n",
              "      <td>0.000000</td>\n",
              "      <td>0.242152</td>\n",
              "      <td>0.0</td>\n",
              "      <td>0.000000</td>\n",
              "    </tr>\n",
              "    <tr>\n",
              "      <th>50%</th>\n",
              "      <td>633.000000</td>\n",
              "      <td>185.000000</td>\n",
              "      <td>0.000000</td>\n",
              "      <td>0.488789</td>\n",
              "      <td>0.0</td>\n",
              "      <td>0.000000</td>\n",
              "    </tr>\n",
              "    <tr>\n",
              "      <th>75%</th>\n",
              "      <td>686.000000</td>\n",
              "      <td>186.000000</td>\n",
              "      <td>0.000000</td>\n",
              "      <td>0.739910</td>\n",
              "      <td>0.0</td>\n",
              "      <td>1.000000</td>\n",
              "    </tr>\n",
              "    <tr>\n",
              "      <th>max</th>\n",
              "      <td>784.000000</td>\n",
              "      <td>188.000000</td>\n",
              "      <td>1.000000</td>\n",
              "      <td>0.995516</td>\n",
              "      <td>0.0</td>\n",
              "      <td>1.000000</td>\n",
              "    </tr>\n",
              "  </tbody>\n",
              "</table>\n",
              "</div>\n",
              "    <div class=\"colab-df-buttons\">\n",
              "\n",
              "  <div class=\"colab-df-container\">\n",
              "    <button class=\"colab-df-convert\" onclick=\"convertToInteractive('df-4d96550f-be26-4082-b189-b028d92eeb78')\"\n",
              "            title=\"Convert this dataframe to an interactive table.\"\n",
              "            style=\"display:none;\">\n",
              "\n",
              "  <svg xmlns=\"http://www.w3.org/2000/svg\" height=\"24px\" viewBox=\"0 -960 960 960\">\n",
              "    <path d=\"M120-120v-720h720v720H120Zm60-500h600v-160H180v160Zm220 220h160v-160H400v160Zm0 220h160v-160H400v160ZM180-400h160v-160H180v160Zm440 0h160v-160H620v160ZM180-180h160v-160H180v160Zm440 0h160v-160H620v160Z\"/>\n",
              "  </svg>\n",
              "    </button>\n",
              "\n",
              "  <style>\n",
              "    .colab-df-container {\n",
              "      display:flex;\n",
              "      gap: 12px;\n",
              "    }\n",
              "\n",
              "    .colab-df-convert {\n",
              "      background-color: #E8F0FE;\n",
              "      border: none;\n",
              "      border-radius: 50%;\n",
              "      cursor: pointer;\n",
              "      display: none;\n",
              "      fill: #1967D2;\n",
              "      height: 32px;\n",
              "      padding: 0 0 0 0;\n",
              "      width: 32px;\n",
              "    }\n",
              "\n",
              "    .colab-df-convert:hover {\n",
              "      background-color: #E2EBFA;\n",
              "      box-shadow: 0px 1px 2px rgba(60, 64, 67, 0.3), 0px 1px 3px 1px rgba(60, 64, 67, 0.15);\n",
              "      fill: #174EA6;\n",
              "    }\n",
              "\n",
              "    .colab-df-buttons div {\n",
              "      margin-bottom: 4px;\n",
              "    }\n",
              "\n",
              "    [theme=dark] .colab-df-convert {\n",
              "      background-color: #3B4455;\n",
              "      fill: #D2E3FC;\n",
              "    }\n",
              "\n",
              "    [theme=dark] .colab-df-convert:hover {\n",
              "      background-color: #434B5C;\n",
              "      box-shadow: 0px 1px 3px 1px rgba(0, 0, 0, 0.15);\n",
              "      filter: drop-shadow(0px 1px 2px rgba(0, 0, 0, 0.3));\n",
              "      fill: #FFFFFF;\n",
              "    }\n",
              "  </style>\n",
              "\n",
              "    <script>\n",
              "      const buttonEl =\n",
              "        document.querySelector('#df-4d96550f-be26-4082-b189-b028d92eeb78 button.colab-df-convert');\n",
              "      buttonEl.style.display =\n",
              "        google.colab.kernel.accessAllowed ? 'block' : 'none';\n",
              "\n",
              "      async function convertToInteractive(key) {\n",
              "        const element = document.querySelector('#df-4d96550f-be26-4082-b189-b028d92eeb78');\n",
              "        const dataTable =\n",
              "          await google.colab.kernel.invokeFunction('convertToInteractive',\n",
              "                                                    [key], {});\n",
              "        if (!dataTable) return;\n",
              "\n",
              "        const docLinkHtml = 'Like what you see? Visit the ' +\n",
              "          '<a target=\"_blank\" href=https://colab.research.google.com/notebooks/data_table.ipynb>data table notebook</a>'\n",
              "          + ' to learn more about interactive tables.';\n",
              "        element.innerHTML = '';\n",
              "        dataTable['output_type'] = 'display_data';\n",
              "        await google.colab.output.renderOutput(dataTable, element);\n",
              "        const docLink = document.createElement('div');\n",
              "        docLink.innerHTML = docLinkHtml;\n",
              "        element.appendChild(docLink);\n",
              "      }\n",
              "    </script>\n",
              "  </div>\n",
              "\n",
              "\n",
              "<div id=\"df-dd66f0e1-54a3-48dd-ab0d-f83c550f033d\">\n",
              "  <button class=\"colab-df-quickchart\" onclick=\"quickchart('df-dd66f0e1-54a3-48dd-ab0d-f83c550f033d')\"\n",
              "            title=\"Suggest charts.\"\n",
              "            style=\"display:none;\">\n",
              "\n",
              "<svg xmlns=\"http://www.w3.org/2000/svg\" height=\"24px\"viewBox=\"0 0 24 24\"\n",
              "     width=\"24px\">\n",
              "    <g>\n",
              "        <path d=\"M19 3H5c-1.1 0-2 .9-2 2v14c0 1.1.9 2 2 2h14c1.1 0 2-.9 2-2V5c0-1.1-.9-2-2-2zM9 17H7v-7h2v7zm4 0h-2V7h2v10zm4 0h-2v-4h2v4z\"/>\n",
              "    </g>\n",
              "</svg>\n",
              "  </button>\n",
              "\n",
              "<style>\n",
              "  .colab-df-quickchart {\n",
              "      --bg-color: #E8F0FE;\n",
              "      --fill-color: #1967D2;\n",
              "      --hover-bg-color: #E2EBFA;\n",
              "      --hover-fill-color: #174EA6;\n",
              "      --disabled-fill-color: #AAA;\n",
              "      --disabled-bg-color: #DDD;\n",
              "  }\n",
              "\n",
              "  [theme=dark] .colab-df-quickchart {\n",
              "      --bg-color: #3B4455;\n",
              "      --fill-color: #D2E3FC;\n",
              "      --hover-bg-color: #434B5C;\n",
              "      --hover-fill-color: #FFFFFF;\n",
              "      --disabled-bg-color: #3B4455;\n",
              "      --disabled-fill-color: #666;\n",
              "  }\n",
              "\n",
              "  .colab-df-quickchart {\n",
              "    background-color: var(--bg-color);\n",
              "    border: none;\n",
              "    border-radius: 50%;\n",
              "    cursor: pointer;\n",
              "    display: none;\n",
              "    fill: var(--fill-color);\n",
              "    height: 32px;\n",
              "    padding: 0;\n",
              "    width: 32px;\n",
              "  }\n",
              "\n",
              "  .colab-df-quickchart:hover {\n",
              "    background-color: var(--hover-bg-color);\n",
              "    box-shadow: 0 1px 2px rgba(60, 64, 67, 0.3), 0 1px 3px 1px rgba(60, 64, 67, 0.15);\n",
              "    fill: var(--button-hover-fill-color);\n",
              "  }\n",
              "\n",
              "  .colab-df-quickchart-complete:disabled,\n",
              "  .colab-df-quickchart-complete:disabled:hover {\n",
              "    background-color: var(--disabled-bg-color);\n",
              "    fill: var(--disabled-fill-color);\n",
              "    box-shadow: none;\n",
              "  }\n",
              "\n",
              "  .colab-df-spinner {\n",
              "    border: 2px solid var(--fill-color);\n",
              "    border-color: transparent;\n",
              "    border-bottom-color: var(--fill-color);\n",
              "    animation:\n",
              "      spin 1s steps(1) infinite;\n",
              "  }\n",
              "\n",
              "  @keyframes spin {\n",
              "    0% {\n",
              "      border-color: transparent;\n",
              "      border-bottom-color: var(--fill-color);\n",
              "      border-left-color: var(--fill-color);\n",
              "    }\n",
              "    20% {\n",
              "      border-color: transparent;\n",
              "      border-left-color: var(--fill-color);\n",
              "      border-top-color: var(--fill-color);\n",
              "    }\n",
              "    30% {\n",
              "      border-color: transparent;\n",
              "      border-left-color: var(--fill-color);\n",
              "      border-top-color: var(--fill-color);\n",
              "      border-right-color: var(--fill-color);\n",
              "    }\n",
              "    40% {\n",
              "      border-color: transparent;\n",
              "      border-right-color: var(--fill-color);\n",
              "      border-top-color: var(--fill-color);\n",
              "    }\n",
              "    60% {\n",
              "      border-color: transparent;\n",
              "      border-right-color: var(--fill-color);\n",
              "    }\n",
              "    80% {\n",
              "      border-color: transparent;\n",
              "      border-right-color: var(--fill-color);\n",
              "      border-bottom-color: var(--fill-color);\n",
              "    }\n",
              "    90% {\n",
              "      border-color: transparent;\n",
              "      border-bottom-color: var(--fill-color);\n",
              "    }\n",
              "  }\n",
              "</style>\n",
              "\n",
              "  <script>\n",
              "    async function quickchart(key) {\n",
              "      const quickchartButtonEl =\n",
              "        document.querySelector('#' + key + ' button');\n",
              "      quickchartButtonEl.disabled = true;  // To prevent multiple clicks.\n",
              "      quickchartButtonEl.classList.add('colab-df-spinner');\n",
              "      try {\n",
              "        const charts = await google.colab.kernel.invokeFunction(\n",
              "            'suggestCharts', [key], {});\n",
              "      } catch (error) {\n",
              "        console.error('Error during call to suggestCharts:', error);\n",
              "      }\n",
              "      quickchartButtonEl.classList.remove('colab-df-spinner');\n",
              "      quickchartButtonEl.classList.add('colab-df-quickchart-complete');\n",
              "    }\n",
              "    (() => {\n",
              "      let quickchartButtonEl =\n",
              "        document.querySelector('#df-dd66f0e1-54a3-48dd-ab0d-f83c550f033d button');\n",
              "      quickchartButtonEl.style.display =\n",
              "        google.colab.kernel.accessAllowed ? 'block' : 'none';\n",
              "    })();\n",
              "  </script>\n",
              "</div>\n",
              "    </div>\n",
              "  </div>\n"
            ]
          },
          "metadata": {}
        }
      ],
      "source": [
        "display(data[data[\"17_group\"] != 0].describe(), data[data[\"18_group\"] != 0].describe())"
      ]
    },
    {
      "cell_type": "markdown",
      "metadata": {
        "id": "r38NJX8Ult-4"
      },
      "source": [
        "134 заявки из 17-го года набора и 213 из 18-го"
      ]
    },
    {
      "cell_type": "code",
      "execution_count": 14,
      "metadata": {
        "colab": {
          "base_uri": "https://localhost:8080/"
        },
        "id": "Nnum-a0mXfwW",
        "outputId": "7cdc43fa-6921-4a74-ad4e-a1bd4b2f9491"
      },
      "outputs": [
        {
          "output_type": "execute_result",
          "data": {
            "text/plain": [
              "True"
            ]
          },
          "metadata": {},
          "execution_count": 14
        }
      ],
      "source": [
        "has_same_percentiles = data[\"percentile\"].duplicated(keep=\"first\").any()\n",
        "has_same_percentiles"
      ]
    },
    {
      "cell_type": "markdown",
      "metadata": {
        "id": "fVnqwHncl4PQ"
      },
      "source": [
        "Есть студенты с равными персентилями (например есть 2 человека с перцентилем 0 :) )"
      ]
    },
    {
      "cell_type": "markdown",
      "metadata": {
        "id": "IlzHp3HVhLuz"
      },
      "source": [
        "#### 5. [0.5 балла] Какие  blended-курсы для четверокурсников существуют? На какой blended-курс записалось наибольшее количество студентов? На каком из blended-курсов собрались студенты с самым высоким средним рейтингом (выведите этот курс и количество студентов на нем)?"
      ]
    },
    {
      "cell_type": "code",
      "execution_count": 15,
      "metadata": {
        "colab": {
          "base_uri": "https://localhost:8080/"
        },
        "id": "j_BRWerHhLu0",
        "outputId": "7fc538f5-5078-4a2f-bada-123e1b43cdf4"
      },
      "outputs": [
        {
          "output_type": "execute_result",
          "data": {
            "text/plain": [
              "                                         213\n",
              "DevOps                                    87\n",
              "Соревновательный анализ данных            32\n",
              "Введение в дифференциальную геометрию     15\n",
              "Name: blended, dtype: int64"
            ]
          },
          "metadata": {},
          "execution_count": 15
        }
      ],
      "source": [
        "data[\"blended\"].value_counts()"
      ]
    },
    {
      "cell_type": "code",
      "execution_count": 16,
      "metadata": {
        "colab": {
          "base_uri": "https://localhost:8080/",
          "height": 261
        },
        "id": "aC74UDnLlsLP",
        "outputId": "9e52e253-4c92-4152-c910-2d65e4ae62ad"
      },
      "outputs": [
        {
          "output_type": "stream",
          "name": "stderr",
          "text": [
            "<ipython-input-16-a63f14c79352>:1: FutureWarning: The default value of numeric_only in DataFrameGroupBy.mean is deprecated. In a future version, numeric_only will default to False. Either specify numeric_only or select only columns which should be valid for the function.\n",
            "  data.groupby(by=\"blended\").mean()\n"
          ]
        },
        {
          "output_type": "execute_result",
          "data": {
            "text/plain": [
              "                                            rating    18_group     is_mi  \\\n",
              "blended                                                                    \n",
              "                                        633.901408  184.469484  0.075117   \n",
              "DevOps                                 1154.172414    0.000000  0.000000   \n",
              "Введение в дифференциальную геометрию  1210.733333    0.000000  0.000000   \n",
              "Соревновательный анализ данных         1144.218750    0.000000  0.000000   \n",
              "\n",
              "                                       percentile    17_group  is_ml_student  \n",
              "blended                                                                       \n",
              "                                         0.493610    0.000000       0.262911  \n",
              "DevOps                                   0.502499  173.620690       0.000000  \n",
              "Введение в дифференциальную геометрию    0.343961  173.933333       0.000000  \n",
              "Соревновательный анализ данных           0.537817  172.437500       0.000000  "
            ],
            "text/html": [
              "\n",
              "  <div id=\"df-cddbda9d-12f0-4afd-b533-0366194d6f51\" class=\"colab-df-container\">\n",
              "    <div>\n",
              "<style scoped>\n",
              "    .dataframe tbody tr th:only-of-type {\n",
              "        vertical-align: middle;\n",
              "    }\n",
              "\n",
              "    .dataframe tbody tr th {\n",
              "        vertical-align: top;\n",
              "    }\n",
              "\n",
              "    .dataframe thead th {\n",
              "        text-align: right;\n",
              "    }\n",
              "</style>\n",
              "<table border=\"1\" class=\"dataframe\">\n",
              "  <thead>\n",
              "    <tr style=\"text-align: right;\">\n",
              "      <th></th>\n",
              "      <th>rating</th>\n",
              "      <th>18_group</th>\n",
              "      <th>is_mi</th>\n",
              "      <th>percentile</th>\n",
              "      <th>17_group</th>\n",
              "      <th>is_ml_student</th>\n",
              "    </tr>\n",
              "    <tr>\n",
              "      <th>blended</th>\n",
              "      <th></th>\n",
              "      <th></th>\n",
              "      <th></th>\n",
              "      <th></th>\n",
              "      <th></th>\n",
              "      <th></th>\n",
              "    </tr>\n",
              "  </thead>\n",
              "  <tbody>\n",
              "    <tr>\n",
              "      <th></th>\n",
              "      <td>633.901408</td>\n",
              "      <td>184.469484</td>\n",
              "      <td>0.075117</td>\n",
              "      <td>0.493610</td>\n",
              "      <td>0.000000</td>\n",
              "      <td>0.262911</td>\n",
              "    </tr>\n",
              "    <tr>\n",
              "      <th>DevOps</th>\n",
              "      <td>1154.172414</td>\n",
              "      <td>0.000000</td>\n",
              "      <td>0.000000</td>\n",
              "      <td>0.502499</td>\n",
              "      <td>173.620690</td>\n",
              "      <td>0.000000</td>\n",
              "    </tr>\n",
              "    <tr>\n",
              "      <th>Введение в дифференциальную геометрию</th>\n",
              "      <td>1210.733333</td>\n",
              "      <td>0.000000</td>\n",
              "      <td>0.000000</td>\n",
              "      <td>0.343961</td>\n",
              "      <td>173.933333</td>\n",
              "      <td>0.000000</td>\n",
              "    </tr>\n",
              "    <tr>\n",
              "      <th>Соревновательный анализ данных</th>\n",
              "      <td>1144.218750</td>\n",
              "      <td>0.000000</td>\n",
              "      <td>0.000000</td>\n",
              "      <td>0.537817</td>\n",
              "      <td>172.437500</td>\n",
              "      <td>0.000000</td>\n",
              "    </tr>\n",
              "  </tbody>\n",
              "</table>\n",
              "</div>\n",
              "    <div class=\"colab-df-buttons\">\n",
              "\n",
              "  <div class=\"colab-df-container\">\n",
              "    <button class=\"colab-df-convert\" onclick=\"convertToInteractive('df-cddbda9d-12f0-4afd-b533-0366194d6f51')\"\n",
              "            title=\"Convert this dataframe to an interactive table.\"\n",
              "            style=\"display:none;\">\n",
              "\n",
              "  <svg xmlns=\"http://www.w3.org/2000/svg\" height=\"24px\" viewBox=\"0 -960 960 960\">\n",
              "    <path d=\"M120-120v-720h720v720H120Zm60-500h600v-160H180v160Zm220 220h160v-160H400v160Zm0 220h160v-160H400v160ZM180-400h160v-160H180v160Zm440 0h160v-160H620v160ZM180-180h160v-160H180v160Zm440 0h160v-160H620v160Z\"/>\n",
              "  </svg>\n",
              "    </button>\n",
              "\n",
              "  <style>\n",
              "    .colab-df-container {\n",
              "      display:flex;\n",
              "      gap: 12px;\n",
              "    }\n",
              "\n",
              "    .colab-df-convert {\n",
              "      background-color: #E8F0FE;\n",
              "      border: none;\n",
              "      border-radius: 50%;\n",
              "      cursor: pointer;\n",
              "      display: none;\n",
              "      fill: #1967D2;\n",
              "      height: 32px;\n",
              "      padding: 0 0 0 0;\n",
              "      width: 32px;\n",
              "    }\n",
              "\n",
              "    .colab-df-convert:hover {\n",
              "      background-color: #E2EBFA;\n",
              "      box-shadow: 0px 1px 2px rgba(60, 64, 67, 0.3), 0px 1px 3px 1px rgba(60, 64, 67, 0.15);\n",
              "      fill: #174EA6;\n",
              "    }\n",
              "\n",
              "    .colab-df-buttons div {\n",
              "      margin-bottom: 4px;\n",
              "    }\n",
              "\n",
              "    [theme=dark] .colab-df-convert {\n",
              "      background-color: #3B4455;\n",
              "      fill: #D2E3FC;\n",
              "    }\n",
              "\n",
              "    [theme=dark] .colab-df-convert:hover {\n",
              "      background-color: #434B5C;\n",
              "      box-shadow: 0px 1px 3px 1px rgba(0, 0, 0, 0.15);\n",
              "      filter: drop-shadow(0px 1px 2px rgba(0, 0, 0, 0.3));\n",
              "      fill: #FFFFFF;\n",
              "    }\n",
              "  </style>\n",
              "\n",
              "    <script>\n",
              "      const buttonEl =\n",
              "        document.querySelector('#df-cddbda9d-12f0-4afd-b533-0366194d6f51 button.colab-df-convert');\n",
              "      buttonEl.style.display =\n",
              "        google.colab.kernel.accessAllowed ? 'block' : 'none';\n",
              "\n",
              "      async function convertToInteractive(key) {\n",
              "        const element = document.querySelector('#df-cddbda9d-12f0-4afd-b533-0366194d6f51');\n",
              "        const dataTable =\n",
              "          await google.colab.kernel.invokeFunction('convertToInteractive',\n",
              "                                                    [key], {});\n",
              "        if (!dataTable) return;\n",
              "\n",
              "        const docLinkHtml = 'Like what you see? Visit the ' +\n",
              "          '<a target=\"_blank\" href=https://colab.research.google.com/notebooks/data_table.ipynb>data table notebook</a>'\n",
              "          + ' to learn more about interactive tables.';\n",
              "        element.innerHTML = '';\n",
              "        dataTable['output_type'] = 'display_data';\n",
              "        await google.colab.output.renderOutput(dataTable, element);\n",
              "        const docLink = document.createElement('div');\n",
              "        docLink.innerHTML = docLinkHtml;\n",
              "        element.appendChild(docLink);\n",
              "      }\n",
              "    </script>\n",
              "  </div>\n",
              "\n",
              "\n",
              "<div id=\"df-665390f2-705e-409d-bffd-49ad1b9cf79c\">\n",
              "  <button class=\"colab-df-quickchart\" onclick=\"quickchart('df-665390f2-705e-409d-bffd-49ad1b9cf79c')\"\n",
              "            title=\"Suggest charts.\"\n",
              "            style=\"display:none;\">\n",
              "\n",
              "<svg xmlns=\"http://www.w3.org/2000/svg\" height=\"24px\"viewBox=\"0 0 24 24\"\n",
              "     width=\"24px\">\n",
              "    <g>\n",
              "        <path d=\"M19 3H5c-1.1 0-2 .9-2 2v14c0 1.1.9 2 2 2h14c1.1 0 2-.9 2-2V5c0-1.1-.9-2-2-2zM9 17H7v-7h2v7zm4 0h-2V7h2v10zm4 0h-2v-4h2v4z\"/>\n",
              "    </g>\n",
              "</svg>\n",
              "  </button>\n",
              "\n",
              "<style>\n",
              "  .colab-df-quickchart {\n",
              "      --bg-color: #E8F0FE;\n",
              "      --fill-color: #1967D2;\n",
              "      --hover-bg-color: #E2EBFA;\n",
              "      --hover-fill-color: #174EA6;\n",
              "      --disabled-fill-color: #AAA;\n",
              "      --disabled-bg-color: #DDD;\n",
              "  }\n",
              "\n",
              "  [theme=dark] .colab-df-quickchart {\n",
              "      --bg-color: #3B4455;\n",
              "      --fill-color: #D2E3FC;\n",
              "      --hover-bg-color: #434B5C;\n",
              "      --hover-fill-color: #FFFFFF;\n",
              "      --disabled-bg-color: #3B4455;\n",
              "      --disabled-fill-color: #666;\n",
              "  }\n",
              "\n",
              "  .colab-df-quickchart {\n",
              "    background-color: var(--bg-color);\n",
              "    border: none;\n",
              "    border-radius: 50%;\n",
              "    cursor: pointer;\n",
              "    display: none;\n",
              "    fill: var(--fill-color);\n",
              "    height: 32px;\n",
              "    padding: 0;\n",
              "    width: 32px;\n",
              "  }\n",
              "\n",
              "  .colab-df-quickchart:hover {\n",
              "    background-color: var(--hover-bg-color);\n",
              "    box-shadow: 0 1px 2px rgba(60, 64, 67, 0.3), 0 1px 3px 1px rgba(60, 64, 67, 0.15);\n",
              "    fill: var(--button-hover-fill-color);\n",
              "  }\n",
              "\n",
              "  .colab-df-quickchart-complete:disabled,\n",
              "  .colab-df-quickchart-complete:disabled:hover {\n",
              "    background-color: var(--disabled-bg-color);\n",
              "    fill: var(--disabled-fill-color);\n",
              "    box-shadow: none;\n",
              "  }\n",
              "\n",
              "  .colab-df-spinner {\n",
              "    border: 2px solid var(--fill-color);\n",
              "    border-color: transparent;\n",
              "    border-bottom-color: var(--fill-color);\n",
              "    animation:\n",
              "      spin 1s steps(1) infinite;\n",
              "  }\n",
              "\n",
              "  @keyframes spin {\n",
              "    0% {\n",
              "      border-color: transparent;\n",
              "      border-bottom-color: var(--fill-color);\n",
              "      border-left-color: var(--fill-color);\n",
              "    }\n",
              "    20% {\n",
              "      border-color: transparent;\n",
              "      border-left-color: var(--fill-color);\n",
              "      border-top-color: var(--fill-color);\n",
              "    }\n",
              "    30% {\n",
              "      border-color: transparent;\n",
              "      border-left-color: var(--fill-color);\n",
              "      border-top-color: var(--fill-color);\n",
              "      border-right-color: var(--fill-color);\n",
              "    }\n",
              "    40% {\n",
              "      border-color: transparent;\n",
              "      border-right-color: var(--fill-color);\n",
              "      border-top-color: var(--fill-color);\n",
              "    }\n",
              "    60% {\n",
              "      border-color: transparent;\n",
              "      border-right-color: var(--fill-color);\n",
              "    }\n",
              "    80% {\n",
              "      border-color: transparent;\n",
              "      border-right-color: var(--fill-color);\n",
              "      border-bottom-color: var(--fill-color);\n",
              "    }\n",
              "    90% {\n",
              "      border-color: transparent;\n",
              "      border-bottom-color: var(--fill-color);\n",
              "    }\n",
              "  }\n",
              "</style>\n",
              "\n",
              "  <script>\n",
              "    async function quickchart(key) {\n",
              "      const quickchartButtonEl =\n",
              "        document.querySelector('#' + key + ' button');\n",
              "      quickchartButtonEl.disabled = true;  // To prevent multiple clicks.\n",
              "      quickchartButtonEl.classList.add('colab-df-spinner');\n",
              "      try {\n",
              "        const charts = await google.colab.kernel.invokeFunction(\n",
              "            'suggestCharts', [key], {});\n",
              "      } catch (error) {\n",
              "        console.error('Error during call to suggestCharts:', error);\n",
              "      }\n",
              "      quickchartButtonEl.classList.remove('colab-df-spinner');\n",
              "      quickchartButtonEl.classList.add('colab-df-quickchart-complete');\n",
              "    }\n",
              "    (() => {\n",
              "      let quickchartButtonEl =\n",
              "        document.querySelector('#df-665390f2-705e-409d-bffd-49ad1b9cf79c button');\n",
              "      quickchartButtonEl.style.display =\n",
              "        google.colab.kernel.accessAllowed ? 'block' : 'none';\n",
              "    })();\n",
              "  </script>\n",
              "</div>\n",
              "    </div>\n",
              "  </div>\n"
            ]
          },
          "metadata": {},
          "execution_count": 16
        }
      ],
      "source": [
        "data.groupby(by=\"blended\").mean()"
      ]
    },
    {
      "cell_type": "markdown",
      "metadata": {
        "id": "qGHwiED9nddi"
      },
      "source": [
        "Существует 3 blended курса: \"DevOps\", \"Введение в дифференциальную геометрию\", \"Соревновательный анализ данных\". Больше всего студентов записалось на курс по девопсу, а именно 87 человек. С самым высоким средним рейтингом (~1210) собрались студенты на \"Введении в дифференциальную геометрию\""
      ]
    },
    {
      "cell_type": "code",
      "source": [
        "print(f'Введение в дифференциальную геометрию {data[\"blended\"].value_counts()[\"Введение в дифференциальную геометрию\"]}')"
      ],
      "metadata": {
        "colab": {
          "base_uri": "https://localhost:8080/"
        },
        "id": "Hn5BHVyszncj",
        "outputId": "55f887d0-f037-4c8b-b339-3ae426a73ed9"
      },
      "execution_count": 17,
      "outputs": [
        {
          "output_type": "stream",
          "name": "stdout",
          "text": [
            "Введение в дифференциальную геометрию 15\n"
          ]
        }
      ]
    },
    {
      "cell_type": "markdown",
      "metadata": {
        "id": "IU_FLt8HhLu0"
      },
      "source": [
        "#### 6. [1 балл] Выясните, есть ли студенты с абсолютно одинаковыми предпочтениями по всем курсам.\n",
        "\n",
        "Для этого сформируйте таблицу, где для каждого возможного набора курсов посчитано количество студентов, выбравших такой набор, и оставьте только строки где это количество больше 1.\n",
        "\n",
        "В данном случае набор курсов задается упорядоченным множеством ('fall_1', 'fall_2', 'fall_3', 'spring_1', 'spring_2', 'spring_3', 'blended'). Элемент blended будет нулевым для 3-го курса."
      ]
    },
    {
      "cell_type": "code",
      "execution_count": 18,
      "metadata": {
        "colab": {
          "base_uri": "https://localhost:8080/"
        },
        "id": "BBDlR1mFhLu0",
        "outputId": "ea33c027-b345-4742-8fc4-917bef73388a"
      },
      "outputs": [
        {
          "output_type": "stream",
          "name": "stdout",
          "text": [
            "15\n"
          ]
        }
      ],
      "source": [
        "grouped = data.groupby(['fall_1', 'fall_2', 'fall_3', 'spring_1', 'spring_2', 'spring_3', 'blended']).size()\n",
        "print(grouped[grouped >= 2].size)"
      ]
    },
    {
      "cell_type": "markdown",
      "metadata": {
        "id": "0Z5y7PY6vqGn"
      },
      "source": [
        "Да, такие студенты есть и их целых 15 человек"
      ]
    },
    {
      "cell_type": "markdown",
      "metadata": {
        "id": "spu3r3vchLu0"
      },
      "source": [
        "#### 7. [0.5 балла] Найдите курсы по выбору, на которые записывались как студенты 18-го года набора, так и студенты 17-го года."
      ]
    },
    {
      "cell_type": "code",
      "execution_count": 19,
      "metadata": {
        "colab": {
          "base_uri": "https://localhost:8080/"
        },
        "id": "FJjwmH2z5D3E",
        "outputId": "6597fe5a-7f14-48f4-9321-93c0f04389ca"
      },
      "outputs": [
        {
          "output_type": "stream",
          "name": "stdout",
          "text": [
            "Сбор и обработка данных с помощью краудсорсинга\n",
            "Моделирование временных рядов\n",
            "Высокопроизводительные вычисления\n",
            "Безопасность компьютерных систем\n",
            "Принятие решений в условиях риска и неопределённости\n",
            "Численные методы\n",
            "Statistical Learning Theory\n"
          ]
        }
      ],
      "source": [
        "def get_set_of_courses_for_group(name_of_colunm: str, group: str) -> set:\n",
        "  group = data.groupby(by=name_of_colunm)[group].mean()\n",
        "  return set(group[group != 0].index)\n",
        "\n",
        "set_17 = set()\n",
        "for name in ['fall_1', 'fall_2', 'fall_3', 'spring_1', 'spring_2', 'spring_3']:\n",
        "  set_17 |= get_set_of_courses_for_group(name, \"17_group\")\n",
        "set_18 = set()\n",
        "for name in ['fall_1', 'fall_2', 'fall_3', 'spring_1', 'spring_2', 'spring_3']:\n",
        "  set_18 |= get_set_of_courses_for_group(name, \"18_group\")\n",
        "\n",
        "for el in (set_17 & set_18):\n",
        "  print(el)"
      ]
    },
    {
      "cell_type": "markdown",
      "metadata": {
        "id": "PYfX-Dr5hLu0"
      },
      "source": [
        "Методом исключения найдите курсы, которые предлагались только студентам 18-го года и только студентам 17-го года."
      ]
    },
    {
      "cell_type": "code",
      "execution_count": 20,
      "metadata": {
        "colab": {
          "base_uri": "https://localhost:8080/"
        },
        "id": "G9SWBOpehLu1",
        "outputId": "a5103088-e409-4544-c2a7-a9613f6c51ed"
      },
      "outputs": [
        {
          "output_type": "stream",
          "name": "stdout",
          "text": [
            "Курсы, которые предлагались только студентам 17 года набора:\n",
            "\n",
            "Генеративные модели в машинном обучении\n",
            "Глубинное обучение в обработке звука\n",
            "Конфликты и кооперация\n",
            "Байесовские методы машинного обучения\n",
            "Проектирование и разработка высоконагруженных сервисов\n",
            "Методы сжатия и передачи медиаданных\n",
            "Анализ неструктурированных данных\n",
            "Обучение с подкреплением\n",
            "Символьные вычисления\n",
            "Компьютерное зрение\n",
            "------------\n",
            "Курсы, которые предлагались только студентам 18 года набора:\n",
            "\n",
            "Промышленное программирование на языке Java\n",
            "Дискретная оптимизация\n",
            "Дополнительные главы прикладной статистики\n",
            "Анализ данных в бизнесе\n",
            "Компьютерные сети\n",
            "Машинное обучение 2\n",
            "Язык SQL\n",
            "Матричные вычисления\n",
            "Теория баз данных\n",
            "Системы баз данных\n"
          ]
        }
      ],
      "source": [
        "print(\"Курсы, которые предлагались только студентам 17 года набора:\")\n",
        "print()\n",
        "for el in (set_17 - set_18):\n",
        "  print(el)\n",
        "print('------------')\n",
        "print(\"Курсы, которые предлагались только студентам 18 года набора:\")\n",
        "print()\n",
        "for el in (set_18 - set_17):\n",
        "  print(el)"
      ]
    },
    {
      "cell_type": "markdown",
      "metadata": {
        "id": "uL45Tg5fhLu1"
      },
      "source": [
        "### Визуализации и matplotlib"
      ]
    },
    {
      "cell_type": "markdown",
      "metadata": {
        "id": "MY9lKmP2hLu1"
      },
      "source": [
        "При работе с данными часто неудобно делать какие-то выводы, если смотреть на таблицу и числа в частности, поэтому важно уметь визуализировать данные. Здесь будут описаны ключевые правила оформления графиков для **всех** домашних заданий.\n",
        "\n",
        "У matplotlib, конечно же, есть [документация](https://matplotlib.org/users/index.html) с большим количеством [примеров](https://matplotlib.org/examples/), но для начала достаточно знать про несколько основных типов графиков:\n",
        "- plot — обычный поточечный график, которым можно изображать кривые или отдельные точки;\n",
        "- hist — гистограмма, показывающая распределение некоторой величины;\n",
        "- scatter — график, показывающий взаимосвязь двух величин;\n",
        "- bar — столбцовый график, показывающий взаимосвязь количественной величины от категориальной.\n",
        "\n",
        "В этом задании вы попробуете построить один из них. Не забывайте про базовые принципы построения приличных графиков:\n",
        "- оси должны быть подписаны, причём не слишком мелко;\n",
        "- у графика должно быть название;\n",
        "- если изображено несколько графиков, то необходима поясняющая легенда;\n",
        "- все линии на графиках должны быть чётко видны (нет похожих цветов или цветов, сливающихся с фоном);\n",
        "- если отображена величина, имеющая очевидный диапазон значений (например, проценты могут быть от 0 до 100), то желательно масштабировать ось на весь диапазон значений (исключением является случай, когда вам необходимо показать малое отличие, которое незаметно в таких масштабах);\n",
        "- сетка на графике помогает оценить значения в точках на глаз, это обычно полезно, поэтому лучше ее отрисовывать;\n",
        "- если распределение на гистограмме имеет тяжёлые хвосты, лучше использовать логарифмическую шкалу.\n",
        "\n",
        "Еще одна билиотека для визуализации: [seaborn](https://jakevdp.github.io/PythonDataScienceHandbook/04.14-visualization-with-seaborn.html) (обычно сокращается до sns). Это настройка над matplotlib, иногда удобнее и красивее делать визуализации через неё.\n",
        "\n",
        "**5 пунктов после которых ваши графики не будут прежними:**\n",
        "- для красивой картинки <code>%config InlineBackend.figure_format = 'retina'</code>\n",
        "- задаем размер (почти) всех графиков (можно выбрать другие значения) <code>plt.rcParams['figure.figsize'] = 8, 5</code>\n",
        "- размер шрифта подписей графиков <code>plt.rcParams['font.size'] = 12</code>\n",
        "- формат в котором сохраняется изображение <code>mpl.rcParams['savefig.format'] = 'pdf'</code>\n",
        "- sns – seaborn, добавляет решетку <code>sns.set_style('darkgrid')</code>\n",
        "\n",
        "Добавьте эти функции в ячейку ниже. Каждый график все равно придется настраивать отдельно, но указанные строчки позволят значительно упростить процесс.  "
      ]
    },
    {
      "cell_type": "code",
      "execution_count": 21,
      "metadata": {
        "id": "na9doUOFhLu1"
      },
      "outputs": [],
      "source": [
        "%matplotlib inline\n",
        "import matplotlib.pyplot as plt\n",
        "import seaborn as sns\n",
        "%config InlineBackend.figure_format = 'retina'\n",
        "plt.rcParams['figure.figsize'] = 8, 5\n",
        "plt.rcParams['font.size'] = 12\n",
        "mpl.rcParams['savefig.format'] = 'pdf'\n",
        "sns.set_style('darkgrid')"
      ]
    },
    {
      "cell_type": "markdown",
      "metadata": {
        "id": "kikwLpxfhLu1"
      },
      "source": [
        "#### 8. [0.5 балла] Постройте график средних рейтингов по дням получения ответов (bar plot)."
      ]
    },
    {
      "cell_type": "markdown",
      "metadata": {
        "id": "9d8WZAbxNa-l"
      },
      "source": [
        "Оставим только дни в столбце timestamp\n"
      ]
    },
    {
      "cell_type": "code",
      "execution_count": 22,
      "metadata": {
        "colab": {
          "base_uri": "https://localhost:8080/",
          "height": 219
        },
        "id": "UTPLVeQvhLu2",
        "outputId": "75e32838-c4a1-4db6-c0ce-d739bba12325"
      },
      "outputs": [
        {
          "output_type": "execute_result",
          "data": {
            "text/plain": [
              "    timestamp                                id  rating  18_group  is_mi  \\\n",
              "36         16  d37fe725a8ee1d1b263463baf7560fd4     748     184.0    0.0   \n",
              "255        17  674d6e333a907d65780e9618436f1952    1098       0.0    0.0   \n",
              "\n",
              "                                    fall_1                             fall_2  \\\n",
              "36        Безопасность компьютерных систем                  Теория баз данных   \n",
              "255  Байесовские методы машинного обучения  Анализ неструктурированных данных   \n",
              "\n",
              "                                              fall_3  \\\n",
              "36                 Высокопроизводительные вычисления   \n",
              "255  Сбор и обработка данных с помощью краудсорсинга   \n",
              "\n",
              "                                        spring_1             spring_2  \\\n",
              "36   Промышленное программирование на языке Java    Компьютерные сети   \n",
              "255                     Обучение с подкреплением  Компьютерное зрение   \n",
              "\n",
              "                                    spring_3 is_first_time  percentile  \\\n",
              "36                    Дискретная оптимизация            Да    0.053812   \n",
              "255  Генеративные модели в машинном обучении            Да    0.710145   \n",
              "\n",
              "     17_group blended  is_ml_student  \n",
              "36        0.0                    0.0  \n",
              "255     172.0  DevOps            0.0  "
            ],
            "text/html": [
              "\n",
              "  <div id=\"df-ef6be2b0-bf5d-48a3-acc6-7756bc2f7e65\" class=\"colab-df-container\">\n",
              "    <div>\n",
              "<style scoped>\n",
              "    .dataframe tbody tr th:only-of-type {\n",
              "        vertical-align: middle;\n",
              "    }\n",
              "\n",
              "    .dataframe tbody tr th {\n",
              "        vertical-align: top;\n",
              "    }\n",
              "\n",
              "    .dataframe thead th {\n",
              "        text-align: right;\n",
              "    }\n",
              "</style>\n",
              "<table border=\"1\" class=\"dataframe\">\n",
              "  <thead>\n",
              "    <tr style=\"text-align: right;\">\n",
              "      <th></th>\n",
              "      <th>timestamp</th>\n",
              "      <th>id</th>\n",
              "      <th>rating</th>\n",
              "      <th>18_group</th>\n",
              "      <th>is_mi</th>\n",
              "      <th>fall_1</th>\n",
              "      <th>fall_2</th>\n",
              "      <th>fall_3</th>\n",
              "      <th>spring_1</th>\n",
              "      <th>spring_2</th>\n",
              "      <th>spring_3</th>\n",
              "      <th>is_first_time</th>\n",
              "      <th>percentile</th>\n",
              "      <th>17_group</th>\n",
              "      <th>blended</th>\n",
              "      <th>is_ml_student</th>\n",
              "    </tr>\n",
              "  </thead>\n",
              "  <tbody>\n",
              "    <tr>\n",
              "      <th>36</th>\n",
              "      <td>16</td>\n",
              "      <td>d37fe725a8ee1d1b263463baf7560fd4</td>\n",
              "      <td>748</td>\n",
              "      <td>184.0</td>\n",
              "      <td>0.0</td>\n",
              "      <td>Безопасность компьютерных систем</td>\n",
              "      <td>Теория баз данных</td>\n",
              "      <td>Высокопроизводительные вычисления</td>\n",
              "      <td>Промышленное программирование на языке Java</td>\n",
              "      <td>Компьютерные сети</td>\n",
              "      <td>Дискретная оптимизация</td>\n",
              "      <td>Да</td>\n",
              "      <td>0.053812</td>\n",
              "      <td>0.0</td>\n",
              "      <td></td>\n",
              "      <td>0.0</td>\n",
              "    </tr>\n",
              "    <tr>\n",
              "      <th>255</th>\n",
              "      <td>17</td>\n",
              "      <td>674d6e333a907d65780e9618436f1952</td>\n",
              "      <td>1098</td>\n",
              "      <td>0.0</td>\n",
              "      <td>0.0</td>\n",
              "      <td>Байесовские методы машинного обучения</td>\n",
              "      <td>Анализ неструктурированных данных</td>\n",
              "      <td>Сбор и обработка данных с помощью краудсорсинга</td>\n",
              "      <td>Обучение с подкреплением</td>\n",
              "      <td>Компьютерное зрение</td>\n",
              "      <td>Генеративные модели в машинном обучении</td>\n",
              "      <td>Да</td>\n",
              "      <td>0.710145</td>\n",
              "      <td>172.0</td>\n",
              "      <td>DevOps</td>\n",
              "      <td>0.0</td>\n",
              "    </tr>\n",
              "  </tbody>\n",
              "</table>\n",
              "</div>\n",
              "    <div class=\"colab-df-buttons\">\n",
              "\n",
              "  <div class=\"colab-df-container\">\n",
              "    <button class=\"colab-df-convert\" onclick=\"convertToInteractive('df-ef6be2b0-bf5d-48a3-acc6-7756bc2f7e65')\"\n",
              "            title=\"Convert this dataframe to an interactive table.\"\n",
              "            style=\"display:none;\">\n",
              "\n",
              "  <svg xmlns=\"http://www.w3.org/2000/svg\" height=\"24px\" viewBox=\"0 -960 960 960\">\n",
              "    <path d=\"M120-120v-720h720v720H120Zm60-500h600v-160H180v160Zm220 220h160v-160H400v160Zm0 220h160v-160H400v160ZM180-400h160v-160H180v160Zm440 0h160v-160H620v160ZM180-180h160v-160H180v160Zm440 0h160v-160H620v160Z\"/>\n",
              "  </svg>\n",
              "    </button>\n",
              "\n",
              "  <style>\n",
              "    .colab-df-container {\n",
              "      display:flex;\n",
              "      gap: 12px;\n",
              "    }\n",
              "\n",
              "    .colab-df-convert {\n",
              "      background-color: #E8F0FE;\n",
              "      border: none;\n",
              "      border-radius: 50%;\n",
              "      cursor: pointer;\n",
              "      display: none;\n",
              "      fill: #1967D2;\n",
              "      height: 32px;\n",
              "      padding: 0 0 0 0;\n",
              "      width: 32px;\n",
              "    }\n",
              "\n",
              "    .colab-df-convert:hover {\n",
              "      background-color: #E2EBFA;\n",
              "      box-shadow: 0px 1px 2px rgba(60, 64, 67, 0.3), 0px 1px 3px 1px rgba(60, 64, 67, 0.15);\n",
              "      fill: #174EA6;\n",
              "    }\n",
              "\n",
              "    .colab-df-buttons div {\n",
              "      margin-bottom: 4px;\n",
              "    }\n",
              "\n",
              "    [theme=dark] .colab-df-convert {\n",
              "      background-color: #3B4455;\n",
              "      fill: #D2E3FC;\n",
              "    }\n",
              "\n",
              "    [theme=dark] .colab-df-convert:hover {\n",
              "      background-color: #434B5C;\n",
              "      box-shadow: 0px 1px 3px 1px rgba(0, 0, 0, 0.15);\n",
              "      filter: drop-shadow(0px 1px 2px rgba(0, 0, 0, 0.3));\n",
              "      fill: #FFFFFF;\n",
              "    }\n",
              "  </style>\n",
              "\n",
              "    <script>\n",
              "      const buttonEl =\n",
              "        document.querySelector('#df-ef6be2b0-bf5d-48a3-acc6-7756bc2f7e65 button.colab-df-convert');\n",
              "      buttonEl.style.display =\n",
              "        google.colab.kernel.accessAllowed ? 'block' : 'none';\n",
              "\n",
              "      async function convertToInteractive(key) {\n",
              "        const element = document.querySelector('#df-ef6be2b0-bf5d-48a3-acc6-7756bc2f7e65');\n",
              "        const dataTable =\n",
              "          await google.colab.kernel.invokeFunction('convertToInteractive',\n",
              "                                                    [key], {});\n",
              "        if (!dataTable) return;\n",
              "\n",
              "        const docLinkHtml = 'Like what you see? Visit the ' +\n",
              "          '<a target=\"_blank\" href=https://colab.research.google.com/notebooks/data_table.ipynb>data table notebook</a>'\n",
              "          + ' to learn more about interactive tables.';\n",
              "        element.innerHTML = '';\n",
              "        dataTable['output_type'] = 'display_data';\n",
              "        await google.colab.output.renderOutput(dataTable, element);\n",
              "        const docLink = document.createElement('div');\n",
              "        docLink.innerHTML = docLinkHtml;\n",
              "        element.appendChild(docLink);\n",
              "      }\n",
              "    </script>\n",
              "  </div>\n",
              "\n",
              "\n",
              "<div id=\"df-94d245ca-a46f-4acc-b827-b21bce3bc699\">\n",
              "  <button class=\"colab-df-quickchart\" onclick=\"quickchart('df-94d245ca-a46f-4acc-b827-b21bce3bc699')\"\n",
              "            title=\"Suggest charts.\"\n",
              "            style=\"display:none;\">\n",
              "\n",
              "<svg xmlns=\"http://www.w3.org/2000/svg\" height=\"24px\"viewBox=\"0 0 24 24\"\n",
              "     width=\"24px\">\n",
              "    <g>\n",
              "        <path d=\"M19 3H5c-1.1 0-2 .9-2 2v14c0 1.1.9 2 2 2h14c1.1 0 2-.9 2-2V5c0-1.1-.9-2-2-2zM9 17H7v-7h2v7zm4 0h-2V7h2v10zm4 0h-2v-4h2v4z\"/>\n",
              "    </g>\n",
              "</svg>\n",
              "  </button>\n",
              "\n",
              "<style>\n",
              "  .colab-df-quickchart {\n",
              "      --bg-color: #E8F0FE;\n",
              "      --fill-color: #1967D2;\n",
              "      --hover-bg-color: #E2EBFA;\n",
              "      --hover-fill-color: #174EA6;\n",
              "      --disabled-fill-color: #AAA;\n",
              "      --disabled-bg-color: #DDD;\n",
              "  }\n",
              "\n",
              "  [theme=dark] .colab-df-quickchart {\n",
              "      --bg-color: #3B4455;\n",
              "      --fill-color: #D2E3FC;\n",
              "      --hover-bg-color: #434B5C;\n",
              "      --hover-fill-color: #FFFFFF;\n",
              "      --disabled-bg-color: #3B4455;\n",
              "      --disabled-fill-color: #666;\n",
              "  }\n",
              "\n",
              "  .colab-df-quickchart {\n",
              "    background-color: var(--bg-color);\n",
              "    border: none;\n",
              "    border-radius: 50%;\n",
              "    cursor: pointer;\n",
              "    display: none;\n",
              "    fill: var(--fill-color);\n",
              "    height: 32px;\n",
              "    padding: 0;\n",
              "    width: 32px;\n",
              "  }\n",
              "\n",
              "  .colab-df-quickchart:hover {\n",
              "    background-color: var(--hover-bg-color);\n",
              "    box-shadow: 0 1px 2px rgba(60, 64, 67, 0.3), 0 1px 3px 1px rgba(60, 64, 67, 0.15);\n",
              "    fill: var(--button-hover-fill-color);\n",
              "  }\n",
              "\n",
              "  .colab-df-quickchart-complete:disabled,\n",
              "  .colab-df-quickchart-complete:disabled:hover {\n",
              "    background-color: var(--disabled-bg-color);\n",
              "    fill: var(--disabled-fill-color);\n",
              "    box-shadow: none;\n",
              "  }\n",
              "\n",
              "  .colab-df-spinner {\n",
              "    border: 2px solid var(--fill-color);\n",
              "    border-color: transparent;\n",
              "    border-bottom-color: var(--fill-color);\n",
              "    animation:\n",
              "      spin 1s steps(1) infinite;\n",
              "  }\n",
              "\n",
              "  @keyframes spin {\n",
              "    0% {\n",
              "      border-color: transparent;\n",
              "      border-bottom-color: var(--fill-color);\n",
              "      border-left-color: var(--fill-color);\n",
              "    }\n",
              "    20% {\n",
              "      border-color: transparent;\n",
              "      border-left-color: var(--fill-color);\n",
              "      border-top-color: var(--fill-color);\n",
              "    }\n",
              "    30% {\n",
              "      border-color: transparent;\n",
              "      border-left-color: var(--fill-color);\n",
              "      border-top-color: var(--fill-color);\n",
              "      border-right-color: var(--fill-color);\n",
              "    }\n",
              "    40% {\n",
              "      border-color: transparent;\n",
              "      border-right-color: var(--fill-color);\n",
              "      border-top-color: var(--fill-color);\n",
              "    }\n",
              "    60% {\n",
              "      border-color: transparent;\n",
              "      border-right-color: var(--fill-color);\n",
              "    }\n",
              "    80% {\n",
              "      border-color: transparent;\n",
              "      border-right-color: var(--fill-color);\n",
              "      border-bottom-color: var(--fill-color);\n",
              "    }\n",
              "    90% {\n",
              "      border-color: transparent;\n",
              "      border-bottom-color: var(--fill-color);\n",
              "    }\n",
              "  }\n",
              "</style>\n",
              "\n",
              "  <script>\n",
              "    async function quickchart(key) {\n",
              "      const quickchartButtonEl =\n",
              "        document.querySelector('#' + key + ' button');\n",
              "      quickchartButtonEl.disabled = true;  // To prevent multiple clicks.\n",
              "      quickchartButtonEl.classList.add('colab-df-spinner');\n",
              "      try {\n",
              "        const charts = await google.colab.kernel.invokeFunction(\n",
              "            'suggestCharts', [key], {});\n",
              "      } catch (error) {\n",
              "        console.error('Error during call to suggestCharts:', error);\n",
              "      }\n",
              "      quickchartButtonEl.classList.remove('colab-df-spinner');\n",
              "      quickchartButtonEl.classList.add('colab-df-quickchart-complete');\n",
              "    }\n",
              "    (() => {\n",
              "      let quickchartButtonEl =\n",
              "        document.querySelector('#df-94d245ca-a46f-4acc-b827-b21bce3bc699 button');\n",
              "      quickchartButtonEl.style.display =\n",
              "        google.colab.kernel.accessAllowed ? 'block' : 'none';\n",
              "    })();\n",
              "  </script>\n",
              "</div>\n",
              "    </div>\n",
              "  </div>\n"
            ]
          },
          "metadata": {},
          "execution_count": 22
        }
      ],
      "source": [
        "data[\"timestamp\"] = data[\"timestamp\"].apply(lambda x: str(x)[8:10])\n",
        "data.sample(2)"
      ]
    },
    {
      "cell_type": "code",
      "execution_count": 23,
      "metadata": {
        "id": "67vDbvnoNDKv"
      },
      "outputs": [],
      "source": [
        "grouped = data.groupby(\"timestamp\")[\"rating\"].mean()"
      ]
    },
    {
      "cell_type": "code",
      "execution_count": 24,
      "metadata": {
        "colab": {
          "base_uri": "https://localhost:8080/",
          "height": 571
        },
        "id": "cWMJB8yVNliT",
        "outputId": "8dbd16a7-f6a3-40e9-f755-f58f5d0af1fb"
      },
      "outputs": [
        {
          "output_type": "display_data",
          "data": {
            "text/plain": [
              "<Figure size 1000x600 with 1 Axes>"
            ],
            "image/png": "[encoded data removed]"
          },
          "metadata": {
            "image/png": {
              "width": 869,
              "height": 554
            }
          }
        }
      ],
      "source": [
        "plt.figure(figsize = (10, 6))\n",
        "\n",
        "plt.title(\"Средний рейтинг по дням получения ответов\")\n",
        "plt.xlabel('Число получения ответов')\n",
        "plt.ylabel('Средний рейтинг')\n",
        "plt.bar(grouped.index, grouped.values)\n",
        "plt.savefig('mean_ratings')"
      ]
    },
    {
      "cell_type": "markdown",
      "metadata": {
        "id": "AmsQg9_xhLu2"
      },
      "source": [
        "Сохраните график в формате pdf (так он останется векторизованным)."
      ]
    },
    {
      "cell_type": "markdown",
      "source": [
        "Сохранил в той же ячейке, что и строил график"
      ],
      "metadata": {
        "id": "pn2G7hvv1PJA"
      }
    },
    {
      "cell_type": "markdown",
      "metadata": {
        "id": "sCgWwjl0hLu2"
      },
      "source": [
        "### 2. Распределение студентов по курсам."
      ]
    },
    {
      "cell_type": "markdown",
      "metadata": {
        "id": "Cbtgfh7ADKaS"
      },
      "source": [
        "<span style=\"color:red\">!!!ВНИМАТЕЛЬНО ИЗУЧИТЕ ТЕКСТ НИЖЕ!!!</span>.\n",
        "\n",
        "<span style=\"color:orange\">Если во время выполнения заданий у вас вознинут вопросы -- еще раз перечитайте текст целиком, скорее всего ответы уже содержатся в нем.</span>"
      ]
    },
    {
      "cell_type": "markdown",
      "metadata": {
        "id": "VNqXUpr4hLu3"
      },
      "source": [
        "Теперь вам нужно распределить студентов по осенним курсам по выбору, учитывая их предпочтения."
      ]
    },
    {
      "cell_type": "markdown",
      "metadata": {
        "id": "5cAR2FgphLu3"
      },
      "source": [
        "Алгоритм распределения студентов по курсам:\n",
        "1. По умолчанию на каждой дисциплине по выбору у 3 и 4 курсов может учиться 1 группа (до 30 студентов). Исключения описаны ниже. На blended-дисциплинах для четверокурсников количество мест не ограничено.\n",
        "2. Проводится первая волна отбора. Для каждой дисциплины формируется список тех, кто указал её первым приоритетом (если студент должен выбрать два курса по выбору, то для него дисциплины, которые он указал первым и вторым приоритетом, рассматриваются как дисциплины первого приоритета). Если желающих больше, чем мест, то выбирается топ по перцентилю рейтинга.\n",
        "3. На дисциплинах, где остались места после первой волны, формируются списки тех, кто выбрал их вторым приоритетом и еще не прошел на необходимое количество курсов. Места заполняются лучшими по перцентилю рейтинга студентами. После этого проводится такая же процедура для дисциплин третьего приоритета.\n",
        "4. Если студент не попал на необходимое количество курсов по итогам трёх волн, с ним связывается учебный офис и решает вопрос в индивидуальном порядке."
      ]
    },
    {
      "cell_type": "markdown",
      "metadata": {
        "id": "BiNKVwS6hLu3"
      },
      "source": [
        "Обращаем ваше внимание на следующие детали:\n",
        "- Конкурс на каждый курс общий для 3-го и 4-го курса\n",
        "\n",
        "- По умолчанию студент выбирает один осенний и один весенний курс по выбору, а также четверокурсники выбирают один blended-курс. Студенты групп 17-го года специализаций МОП и ТИ выбирают по 2 осенних и 2 весенних курса по выбору, также студенты групп 18' специализации МИ выбирают 2 осенних курса. <i>Для студентов, которые выбирают 2 курса (например, осенних) первый приоритет — <code>fall_1</code> и <code>fall_2</code>, второй приоритет — <code>fall_3</code>. Такие студенты участвуют только в двух волнах отбора</i>.\n",
        "\n",
        "- Студенты специализации МОП не могут выбрать весенним курсом по выбору Машинное обучение 2. **Если студент специализации МОП выбрал Машинное обучение 2, то его приоритеты сдвигаются.** Из-за совпадений первого и второго курса по выбору двигать приоритеты не надо.\n",
        "\n",
        "- Blended-курсы не трогайте, по ним не надо распределять, на другие курсы они никак не влияют.\n",
        "\n",
        "- Заведомо известно, что в процессе распределения не возникнет ситуации, когда на одно место претендуют студенты с одинаковым перцентилем.\n",
        "\n",
        "- Постарайтесь воздержаться от использования циклов там, где это возможно. <i>Допустимо итерироваться по <b>курсам</b>, на которые проводится отбор, и по <b>волнам</b> отбора. Если вы придумаете, как обойтись и без этих циклов, то на усмотрение проверяющего могут быть добавлены бонусные баллы. <b>Дублирование кода не признается успешным избавлением от циклов</b></i>\n",
        "\n",
        "- На выходе ожидается файл res_fall.csv с результатами распределения на осенние курсы по выбору. Файл должен быть следующего формата:\n",
        "\n",
        "    * Три колонки: ID, course1, course2\n",
        "    \n",
        "    * Если студент не попал на курс, но должен был, то вместо названия курса в ячейке должна быть строка \"???\"\n",
        "    \n",
        "    * Если студент должен выбрать только один курс, то в колонке course2 для него должна стоять строка \"-\"\n",
        "    \n",
        "    * Если студент должен выбрать два курса по выбору, то порядок в колонках course1 и course2 не важен.\n",
        "    \n",
        "    * hint: для сохранения воспользуйтесь df.to_csv('solution.csv', index=None)\n",
        "    \n",
        "\n",
        "Для работы вам могут понадобиться следующие данные:\n",
        "\n",
        "- Результаты опроса (вы уже использовали этот файл в первой части задания, но на всякий случай ссылка: https://www.dropbox.com/s/f4rm8sjc3v99p0m/_end_seminar.xlsx?dl=0)\n",
        "\n",
        "- Соответствие номеров групп специализациям:\n",
        "\n",
        "    * 171, 172 - МОП; 173 - ТИ; 174 — АДИС; 175, 176 — РС; 177 — АПР\n",
        "    \n",
        "    * У студентов 18-го года номера групп соответствуют номерам до распределения по специализациям. Это означает, что по номеру группы 18* нельзя однозначно определить специализацию студента. При этом в рамках распределения важно знать информацию только о двух из них: МОП и МИ. Эти знание можно получить из колонок 'is_ml_student\n",
        "' и 'is_mi' соответственно.\n",
        "\n",
        "- Ограничения по количеству мест на курсах по выбору:\n",
        "\n",
        "    * Осенние: везде 30 мест, кроме Statistical Learning Theory (60 мест), Высокопроизводительных вычислений (60 мест), Анализа неструктурированных данных ($\\infty$ мест)\n",
        "\n",
        "    * Весенние: везде 30 мест, кроме Обучения с подкреплением (60 мест), Анализа данных в бизнесе (60 мест).\n",
        "\n",
        "\n",
        "Кстати, убедитесь, что в данных больше нет пропусков и повторных записей."
      ]
    },
    {
      "cell_type": "markdown",
      "metadata": {
        "id": "o5t55IcQhLu4"
      },
      "source": [
        "#### 0. Проверка\n",
        "\n",
        "Для начала давайте убедимся, что вы успешно выполнили задания первой части и проверим ваши данные на наличие пропусков и повторов:"
      ]
    },
    {
      "cell_type": "code",
      "execution_count": 25,
      "metadata": {
        "id": "VOaD_7hJYdtX"
      },
      "outputs": [],
      "source": [
        "df = data"
      ]
    },
    {
      "cell_type": "code",
      "execution_count": 26,
      "metadata": {
        "id": "34HWEdVdhLu4"
      },
      "outputs": [],
      "source": [
        "assert df.shape[0] == 347, 'В таблице остались повторы или потеряны данные'\n",
        "\n",
        "assert df.isna().sum().sum() == 0, 'В таблице остались пропуски'"
      ]
    },
    {
      "cell_type": "markdown",
      "metadata": {
        "id": "_ImUFyG3hLu4"
      },
      "source": [
        "Если вы не получили AssertionError, то можете продолжать."
      ]
    },
    {
      "cell_type": "markdown",
      "metadata": {
        "id": "LTGSwwvAhLu4"
      },
      "source": [
        "#### 1. [1 балл] Создайте новый признак, обозначающий, сколько осенних курсов должен выбрать студент\n",
        "\n",
        "В этом вам может помочь информация о специализации и группе стундента.\n",
        "\n",
        "\n",
        "По умолчанию студент выбирает один осенний и один весенний курс по выбору, а также четверокурсники выбирают один blended-курс. Студенты групп 17-го года специализаций МОП и ТИ выбирают по 2 осенних и 2 весенних курса по выбору, также студенты групп 18' специализации МИ выбирают 2 осенних курса. Для студентов, которые выбирают 2 курса (например, осенних) первый приоритет — fall_1 и fall_2, второй приоритет — fall_3. Такие студенты участвуют только в двух волнах отбора."
      ]
    },
    {
      "cell_type": "code",
      "execution_count": 27,
      "metadata": {
        "id": "ouxo0kHFhLu4"
      },
      "outputs": [],
      "source": [
        "from traitlets.traitlets import Float\n",
        "# (￣^￣)ゞ\n",
        "\n",
        "def get_number_of_fall_courses(row: pd.Series) -> float:\n",
        "  if (group_number := row[\"17_group\"]) != 0:\n",
        "    return 2 if group_number in {171, 172, 173} else 1\n",
        "  else:\n",
        "    return 2 if row[\"is_mi\"] else 1\n",
        "\n",
        "def get_number_of_spring_courses(row: pd.Series) -> float:\n",
        "  if (group_number := row[\"17_group\"]) != 0:\n",
        "    return 2 if group_number in {171, 172, 173} else 1\n",
        "  else:\n",
        "    return 1\n",
        "\n",
        "data[\"number_of_fall_courses\"] = data.apply(lambda row: get_number_of_fall_courses(row), axis=1)\n",
        "data[\"number_of_spring_courses\"] = data.apply(lambda row: get_number_of_spring_courses(row), axis=1)"
      ]
    },
    {
      "cell_type": "markdown",
      "metadata": {
        "id": "S47aq1sQhLu4"
      },
      "source": [
        "Проверка:"
      ]
    },
    {
      "cell_type": "code",
      "execution_count": 28,
      "metadata": {
        "id": "OlOgzDKDhLu5"
      },
      "outputs": [],
      "source": [
        "col_name = \"number_of_fall_courses\"\n",
        "df = data\n",
        "\n",
        "assert(df[df['id'] == '2662600c2c37e11e62f6ee0b88452f22'][col_name] == 2).all()\n",
        "assert(df[df['id'] == 'd555d2805e1d93d4f023e57dc4c8f403'][col_name] == 2).all()\n",
        "assert(df[df['id'] == '8fe79f84f36e3a5d2d6745621321302c'][col_name] == 1).all()\n",
        "assert(df[df['id'] == 'e4caca755ee0bdd711e18fb8084958b5'][col_name] == 1).all()"
      ]
    },
    {
      "cell_type": "markdown",
      "metadata": {
        "id": "VtQYhwuPhLu5"
      },
      "source": [
        "#### 2. [2 балла] Распределите студентов в соответствии с первым приоритетом"
      ]
    },
    {
      "cell_type": "markdown",
      "metadata": {
        "id": "UCeTB5P5WJOn"
      },
      "source": [
        "- Ограничения по количеству мест на курсах по выбору:\n",
        "\n",
        "    * Осенние: везде 30 мест, кроме Statistical Learning Theory (60 мест), Высокопроизводительных вычислений (60 мест), Анализа неструктурированных данных (∞ мест)\n",
        "\n",
        "    * Весенние: везде 30 мест, кроме Обучения с подкреплением (60 мест), Анализа данных в бизнесе (60 мест).\n"
      ]
    },
    {
      "cell_type": "code",
      "execution_count": 29,
      "metadata": {
        "id": "T58Ffx8YVCqy"
      },
      "outputs": [],
      "source": [
        "# (￣^￣)ゞ\n",
        "courses = set_17 | set_18\n",
        "distributed = dict()\n",
        "max_students = dict()\n",
        "for course in courses:\n",
        "  distributed[course] = 0\n",
        "  if course in {'Statistical Learning Theory', 'Высокопроизводительные вычисления', 'Обучение с подкреплением', 'Анализ данных в бизнесе'}:\n",
        "    max_students[course] = 60\n",
        "  elif course == 'Анализ неструктурированных данных':\n",
        "    max_students[course] = data.shape[0]\n",
        "  else:\n",
        "    max_students[course] = 30"
      ]
    },
    {
      "cell_type": "code",
      "execution_count": 30,
      "metadata": {
        "id": "1cIUPD9DYu1v"
      },
      "outputs": [],
      "source": [
        "data[\"course1\"] = \"\"\n",
        "data[\"course2\"] = \"\"\n",
        "data[\"is_first_place\"] = np.nan\n",
        "data[\"is_last_place\"] = np.nan\n",
        "data[\"selected_in_fall\"] = 0\n",
        "data[\"selected_in_spring\"] = 0"
      ]
    },
    {
      "cell_type": "code",
      "execution_count": 31,
      "metadata": {
        "id": "kp7jzvSwkqB9"
      },
      "outputs": [],
      "source": [
        "data = data.sort_values(by=\"percentile\")"
      ]
    },
    {
      "cell_type": "code",
      "execution_count": 32,
      "metadata": {
        "id": "rwi7XP-AWS0B"
      },
      "outputs": [],
      "source": [
        "import copy\n",
        "\n",
        "spring_copy_data = copy.deepcopy(data)"
      ]
    },
    {
      "cell_type": "markdown",
      "metadata": {
        "id": "joC6NSpJ6Daj"
      },
      "source": [
        " Проводится первая волна отбора. Для каждой дисциплины формируется список тех, кто указал её первым приоритетом (если студент должен выбрать два курса по выбору, то для него дисциплины, которые он указал первым и вторым приоритетом, рассматриваются как дисциплины первого приоритета). Если желающих больше, чем мест, то выбирается топ по перцентилю рейтинга.\n"
      ]
    },
    {
      "cell_type": "code",
      "execution_count": 33,
      "metadata": {
        "id": "V2EOVvDdXMfk"
      },
      "outputs": [],
      "source": [
        "def fall_course_selection(row: pd.Series, wave_number: int) -> pd.Series:\n",
        "  if row[\"selected_in_fall\"] == row[\"number_of_fall_courses\"]:\n",
        "    return row\n",
        "  for course in courses:\n",
        "    if row[\"course1\"] == course:\n",
        "      continue\n",
        "\n",
        "    if (((wave_number == 1) and ((row[\"number_of_fall_courses\"] == 1 and row[\"fall_1\"] == course) or \\\n",
        "        (row[\"number_of_fall_courses\"] == 2 and (row[\"fall_1\"] == course or row[\"fall_2\"] == course))\n",
        "        )) or\n",
        "        ((wave_number == 2) and ((row[\"number_of_fall_courses\"] == 1 and row[\"fall_2\"] == course) or \\\n",
        "          (row[\"number_of_fall_courses\"] == 2 and (row[\"fall_3\"] == course))\n",
        "        )) or\n",
        "        ((wave_number == 3) and (row[\"number_of_fall_courses\"] == 1 and row[\"fall_3\"] == course))\n",
        "       ) and (distributed[course] < max_students[course]):\n",
        "\n",
        "      if row[\"selected_in_fall\"] == 1:\n",
        "        row[\"course2\"] = course\n",
        "      else:\n",
        "        row[\"course1\"] = course\n",
        "      row[\"selected_in_fall\"] += 1\n",
        "      distributed[course] += 1\n",
        "\n",
        "  return row"
      ]
    },
    {
      "cell_type": "code",
      "execution_count": 34,
      "metadata": {
        "id": "ReQ66xOYfmnv"
      },
      "outputs": [],
      "source": [
        "data = data.apply(fall_course_selection, axis=1, args=(1,))"
      ]
    },
    {
      "cell_type": "code",
      "execution_count": 35,
      "metadata": {
        "id": "t0CWv5yd0dhR"
      },
      "outputs": [],
      "source": [
        "for course in courses:\n",
        "  rows = data.loc[(data[\"course1\"] == course) | (data[\"course2\"] == course)]\n",
        "  if len(rows) > 0:\n",
        "    first_row = rows.iloc[0]\n",
        "    data.loc[data[\"id\"] == first_row[\"id\"], \"is_first_place\"] = True\n",
        "    last_row = rows.iloc[-1]\n",
        "    data.loc[data[\"id\"] == last_row[\"id\"], \"is_last_place\"] = True"
      ]
    },
    {
      "cell_type": "markdown",
      "metadata": {
        "id": "vc5zXP5hhLu5"
      },
      "source": [
        "Здесь для проверки приведена таблица, в которой есть 2 дополнительные колонки:\n",
        "    \n",
        "    1) is_first_place - является ли студент лучшим по перцентили хотя бы на одном из курсов, куда он был зачислен\n",
        "    (True / NaN)\n",
        "    \n",
        "    2) is_last_place  - является ли студент худшим по перцентили хотя бы на одном из курсов, куда он был зачислен (True / NaN)"
      ]
    },
    {
      "cell_type": "code",
      "execution_count": 36,
      "metadata": {
        "id": "uZTkGEq5hLu5"
      },
      "outputs": [],
      "source": [
        "!wget  -O '2_task_check.csv' -q 'https://www.dropbox.com/s/v8o2zzq3iz5gc9w/_2_task_check.csv?dl=0'\n",
        "check_df = pd.read_csv('2_task_check.csv')"
      ]
    },
    {
      "cell_type": "markdown",
      "metadata": {
        "id": "E_fbyB9qhLu5"
      },
      "source": [
        "После распределения студентов в соответствии с первым приоритетом добавьте в свой датафрейм аналогичные признаки и запустите проверку:"
      ]
    },
    {
      "cell_type": "code",
      "execution_count": 37,
      "metadata": {
        "id": "bAObvBC4kQtA"
      },
      "outputs": [],
      "source": [
        "df = data"
      ]
    },
    {
      "cell_type": "code",
      "execution_count": 38,
      "metadata": {
        "id": "GOAzQeYehLu6"
      },
      "outputs": [],
      "source": [
        "fir_col_name = \"is_first_place\"\n",
        "last_col_name = \"is_last_place\"\n",
        "\n",
        "\n",
        "assert((df[df[fir_col_name].isna() == False][['id']].sort_values('id').reset_index(drop=True)\n",
        "        ==\n",
        "        check_df[check_df['is_first_place'].isna() == False][['id']].sort_values('id').reset_index(drop=True)\n",
        "       ).id.values).all()\n",
        "\n",
        "\n",
        "assert((df[df[last_col_name].isna() == False][['id']].sort_values('id').reset_index(drop=True)\n",
        "       ==\n",
        "       check_df[check_df['is_last_place'].isna() == False][['id']].sort_values('id').reset_index(drop=True)\n",
        "      ).id.values).all()"
      ]
    },
    {
      "cell_type": "markdown",
      "metadata": {
        "id": "RO6DwNNFhLu6"
      },
      "source": [
        "#### 3. [3 балла] Проведите все три волны отбора студентов на курсы по выбору"
      ]
    },
    {
      "cell_type": "markdown",
      "metadata": {
        "id": "CUu1J7PXPxdt"
      },
      "source": [
        "Провдим волны отбора"
      ]
    },
    {
      "cell_type": "code",
      "execution_count": 39,
      "metadata": {
        "id": "jn2OOrLjhLu6"
      },
      "outputs": [],
      "source": [
        "# (￣^￣)ゞ\n",
        "data = data.apply(fall_course_selection, axis=1, args=(2,))\n",
        "data = data.apply(fall_course_selection, axis=1, args=(3,))"
      ]
    },
    {
      "cell_type": "code",
      "execution_count": 40,
      "metadata": {
        "id": "LwoxwtFRrNFc"
      },
      "outputs": [],
      "source": [
        "def fulfill_courses(row: pd.Series) -> pd.Series:\n",
        "  if row[\"selected_in_fall\"] == 0:\n",
        "    row[\"course1\"] = \"???\"\n",
        "  if (row[\"number_of_fall_courses\"] == 2) and (row[\"selected_in_fall\"] < 2):\n",
        "    row[\"course2\"] = \"???\"\n",
        "  if row[\"number_of_fall_courses\"] == 1:\n",
        "    row[\"course2\"] = \"-\"\n",
        "  return row"
      ]
    },
    {
      "cell_type": "code",
      "execution_count": 41,
      "metadata": {
        "colab": {
          "base_uri": "https://localhost:8080/"
        },
        "id": "xW1QWBz17QF9",
        "outputId": "41d62c0c-c0e4-490a-a6e5-3aa8bb76fbcc"
      },
      "outputs": [
        {
          "output_type": "stream",
          "name": "stderr",
          "text": [
            "<ipython-input-41-f259708e8b10>:3: SettingWithCopyWarning: \n",
            "A value is trying to be set on a copy of a slice from a DataFrame\n",
            "\n",
            "See the caveats in the documentation: https://pandas.pydata.org/pandas-docs/stable/user_guide/indexing.html#returning-a-view-versus-a-copy\n",
            "  ans_fall.rename(columns = {'id' : 'ID'}, inplace=True)\n"
          ]
        }
      ],
      "source": [
        "data = data.apply(fulfill_courses, axis=1)\n",
        "ans_fall = data[[\"id\", \"course1\", \"course2\"]]\n",
        "ans_fall.rename(columns = {'id' : 'ID'}, inplace=True)"
      ]
    },
    {
      "cell_type": "code",
      "execution_count": 42,
      "metadata": {
        "id": "j6Yhmj8k7yRH"
      },
      "outputs": [],
      "source": [
        "ans_fall.to_csv('res_fall.csv', index=None)"
      ]
    },
    {
      "cell_type": "markdown",
      "metadata": {
        "id": "1xQjV9BuhLu6"
      },
      "source": [
        "**Отправьте свой файл res_fall.csv в контест (https://contest.yandex.ru/contest/52663/problems/A/) и прикрепите/укажите ниже ваш никнейм и ссылку на успешную посылку.**"
      ]
    },
    {
      "cell_type": "markdown",
      "metadata": {
        "id": "QRTbPrgbhLu6"
      },
      "source": [
        "*Дисклеймер:*\n",
        "\n",
        "Успешная посылка в контесте является **обязательным** условием получения полного балла за этот (и следующий) пункт. Если добиться успешной посылки не удастся, баллы будут выставляться на усмотрение проверяюшего.\n",
        "\n",
        "При этом ОК в контесте не гарантирует полный балл. Оценка всё равно может быть снижена в случае обнаружения неэффективностей или ошибок в коде. Если вы сдадите в AnyTask очевидно неработающий код или ноутбук без кода, но при этом в контест будет сдан корректный файл, то это будет расцениваться как плагиат."
      ]
    },
    {
      "cell_type": "markdown",
      "metadata": {
        "id": "1IkQa_gdhLu6"
      },
      "source": [
        "На всякий случай просим вас сдать вместе с ноутбуком файл res_fall.csv в anytask"
      ]
    },
    {
      "cell_type": "markdown",
      "metadata": {
        "id": "k8d711qGhLu7"
      },
      "source": [
        "**Дополнительное задание. [2 бонусных балла] Распределите таким же образом студентов еще и на весенние курсы по выбору.**\n",
        "\n",
        "Если ваш код был хорошо структурирован, то это не составит проблем.\n",
        "\n",
        "Если вы выполнили это задание, сдайте среди прочего файл res_spring.csv в таком же формате, как и res_fall.csv."
      ]
    },
    {
      "cell_type": "markdown",
      "metadata": {
        "id": "AgwVaGBPT2rz"
      },
      "source": [
        "Почистим данные: уберем из весенних приоритетов МО-2 для студентов мопа"
      ]
    },
    {
      "cell_type": "code",
      "execution_count": 43,
      "metadata": {
        "id": "hwmusOGThLu7"
      },
      "outputs": [],
      "source": [
        "def clear_mo2(row: pd.Series) -> pd.Series:\n",
        "  if row[\"17_group\"] in {171, 172} or row[\"is_ml_student\"]:\n",
        "    if row[\"spring_3\"] == \"Машинное обучение 2\":\n",
        "      row[\"spring_3\"] = \"\"\n",
        "    if row[\"spring_2\"] == \"Машинное обучение 2\":\n",
        "      row[\"spring_2\"], row[\"spring_3\"] = row[\"spring_3\"], \"\"\n",
        "    if row[\"spring_1\"] == \"Машинное обучение 2\":\n",
        "      row[\"spring_1\"], row[\"spring_2\"], row[\"spring_3\"] = row[\"spring_2\"], row[\"spring_3\"], \"\"\n",
        "  return row\n"
      ]
    },
    {
      "cell_type": "code",
      "execution_count": 44,
      "metadata": {
        "id": "Ewzt_U8ZVaE9"
      },
      "outputs": [],
      "source": [
        "spring_copy_data = spring_copy_data.apply(clear_mo2, axis=1)"
      ]
    },
    {
      "cell_type": "markdown",
      "source": [
        "Теперь проделаем все те же шаги, что и для осени. Код точно такой же, только заменил название Dataframe'а"
      ],
      "metadata": {
        "id": "_2n4NtYI1u6z"
      }
    },
    {
      "cell_type": "code",
      "execution_count": 45,
      "metadata": {
        "id": "A6rh0iF8VaIv"
      },
      "outputs": [],
      "source": [
        "def spring_course_selection(row: pd.Series, wave_number: int) -> pd.Series:\n",
        "  if row[\"selected_in_spring\"] == row[\"number_of_spring_courses\"]:\n",
        "    return row\n",
        "  for course in courses:\n",
        "    if row[\"course1\"] == course:\n",
        "      continue\n",
        "\n",
        "    if (((wave_number == 1) and ((row[\"number_of_spring_courses\"] == 1 and row[\"spring_1\"] == course) or \\\n",
        "        (row[\"number_of_spring_courses\"] == 2 and (row[\"spring_1\"] == course or row[\"spring_2\"] == course))\n",
        "        )) or\n",
        "        ((wave_number == 2) and ((row[\"number_of_spring_courses\"] == 1 and row[\"spring_2\"] == course) or \\\n",
        "          (row[\"number_of_spring_courses\"] == 2 and (row[\"spring_3\"] == course))\n",
        "        )) or\n",
        "        ((wave_number == 3) and (row[\"number_of_spring_courses\"] == 1 and row[\"spring_3\"] == course))\n",
        "       ) and (distributed[course] < max_students[course]):\n",
        "\n",
        "      if row[\"selected_in_spring\"] == 1:\n",
        "        row[\"course2\"] = course\n",
        "      else:\n",
        "        row[\"course1\"] = course\n",
        "      row[\"selected_in_spring\"] += 1\n",
        "      distributed[course] += 1\n",
        "\n",
        "  return row"
      ]
    },
    {
      "cell_type": "code",
      "execution_count": 46,
      "metadata": {
        "id": "hgY-8ay6WuFf"
      },
      "outputs": [],
      "source": [
        "for i in range(1, 4):\n",
        "  spring_copy_data = spring_copy_data.apply(spring_course_selection, axis=1, args=(i,))"
      ]
    },
    {
      "cell_type": "code",
      "execution_count": 47,
      "metadata": {
        "id": "1e0q7_YEXFAA"
      },
      "outputs": [],
      "source": [
        "def fulfill_courses(row: pd.Series) -> pd.Series:\n",
        "  if row[\"selected_in_spring\"] == 0:\n",
        "    row[\"course1\"] = \"???\"\n",
        "  if (row[\"number_of_spring_courses\"] == 2) and (row[\"selected_in_spring\"] < 2):\n",
        "    row[\"course2\"] = \"???\"\n",
        "  if row[\"number_of_spring_courses\"] == 1:\n",
        "    row[\"course2\"] = \"-\"\n",
        "  return row"
      ]
    },
    {
      "cell_type": "code",
      "execution_count": 48,
      "metadata": {
        "colab": {
          "base_uri": "https://localhost:8080/"
        },
        "id": "0sGFGyR9XFAB",
        "outputId": "eb9ee31c-31da-487b-bfd0-3d0be70f73e3"
      },
      "outputs": [
        {
          "output_type": "stream",
          "name": "stderr",
          "text": [
            "<ipython-input-48-9efa6bbd9192>:3: SettingWithCopyWarning: \n",
            "A value is trying to be set on a copy of a slice from a DataFrame\n",
            "\n",
            "See the caveats in the documentation: https://pandas.pydata.org/pandas-docs/stable/user_guide/indexing.html#returning-a-view-versus-a-copy\n",
            "  ans_spring.rename(columns = {'id' : 'ID'}, inplace=True)\n"
          ]
        }
      ],
      "source": [
        "spring_copy_data = spring_copy_data.apply(fulfill_courses, axis=1)\n",
        "ans_spring = spring_copy_data[[\"id\", \"course1\", \"course2\"]]\n",
        "ans_spring.rename(columns = {'id' : 'ID'}, inplace=True)"
      ]
    },
    {
      "cell_type": "code",
      "execution_count": 49,
      "metadata": {
        "id": "9UtAmzqWXFAB"
      },
      "outputs": [],
      "source": [
        "ans_spring.to_csv('res_spring.csv', index=None)"
      ]
    },
    {
      "cell_type": "markdown",
      "metadata": {
        "id": "It7QQZLYhLu7"
      },
      "source": [
        "**Отправьте свой файл res_spring.csv в контест (https://contest.yandex.ru/contest/52663/problems/A) и прикрепите/укажите ниже ваш никнейм и ссылку на успешную посылку.**"
      ]
    },
    {
      "cell_type": "markdown",
      "metadata": {
        "id": "1YcouVTihLu7"
      },
      "source": [
        "На всякий случай просим вас сдать вместе с ноутбуком файл res_spring.csv в anytask"
      ]
    },
    {
      "cell_type": "markdown",
      "metadata": {
        "id": "uY_OY6inhLu7"
      },
      "source": [
        "Вставьте картинку, описывающую ваш опыт выполнения этого задания:"
      ]
    },
    {
      "cell_type": "markdown",
      "metadata": {
        "id": "eZV-MnAbzNRK"
      },
      "source": [
        "![Screenshot from 2023-09-26 12-22-58.png](data:image/png;base64,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)"
      ]
    },
    {
      "cell_type": "code",
      "execution_count": 49,
      "metadata": {
        "id": "b0saz2cXYlvp"
      },
      "outputs": [],
      "source": []
    }
  ],
  "metadata": {
    "colab": {
      "collapsed_sections": [
        "uL45Tg5fhLu1"
      ],
      "provenance": []
    },
    "kernelspec": {
      "display_name": "Python 3 (ipykernel)",
      "language": "python",
      "name": "python3"
    },
    "language_info": {
      "codemirror_mode": {
        "name": "ipython",
        "version": 3
      },
      "file_extension": ".py",
      "mimetype": "text/x-python",
      "name": "python",
      "nbconvert_exporter": "python",
      "pygments_lexer": "ipython3",
      "version": "3.10.4"
    },
    "varInspector": {
      "cols": {
        "lenName": 16,
        "lenType": 16,
        "lenVar": 40
      },
      "kernels_config": {
        "python": {
          "delete_cmd_postfix": "",
          "delete_cmd_prefix": "del ",
          "library": "var_list.py",
          "varRefreshCmd": "print(var_dic_list())"
        },
        "r": {
          "delete_cmd_postfix": ") ",
          "delete_cmd_prefix": "rm(",
          "library": "var_list.r",
          "varRefreshCmd": "cat(var_dic_list()) "
        }
      },
      "types_to_exclude": [
        "module",
        "function",
        "builtin_function_or_method",
        "instance",
        "_Feature"
      ],
      "window_display": false
    },
    "vscode": {
      "interpreter": {
        "hash": "e7370f93d1d0cde622a1f8e1c04877d8463912d04d973331ad4851f04de6915a"
      }
    }
  },
  "nbformat": 4,
  "nbformat_minor": 0
}